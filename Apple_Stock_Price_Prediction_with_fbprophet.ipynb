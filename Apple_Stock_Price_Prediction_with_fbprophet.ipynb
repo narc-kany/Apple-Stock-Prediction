{
  "nbformat": 4,
  "nbformat_minor": 0,
  "metadata": {
    "colab": {
      "name": "Apple Stock Price Prediction with fbprophet.ipynb",
      "provenance": [],
      "authorship_tag": "ABX9TyNXyoko9LrOE7pIi94oWE/V",
      "include_colab_link": true
    },
    "kernelspec": {
      "name": "python3",
      "display_name": "Python 3"
    },
    "language_info": {
      "name": "python"
    }
  },
  "cells": [
    {
      "cell_type": "markdown",
      "metadata": {
        "id": "view-in-github",
        "colab_type": "text"
      },
      "source": [
        "<a href=\"https://colab.research.google.com/github/narc-kany/Apple-Stock-Prediction/blob/main/Apple_Stock_Price_Prediction_with_fbprophet.ipynb\" target=\"_parent\"><img src=\"https://colab.research.google.com/assets/colab-badge.svg\" alt=\"Open In Colab\"/></a>"
      ]
    },
    {
      "cell_type": "code",
      "execution_count": null,
      "metadata": {
        "id": "lbnu6d_HZdRQ"
      },
      "outputs": [],
      "source": [
        "# Description : Predict stock prices of Apple stock using facebook prophet package"
      ]
    },
    {
      "cell_type": "code",
      "source": [
        "# import pandas library\n",
        "import pandas as pd"
      ],
      "metadata": {
        "id": "zNc132R1ZxP9"
      },
      "execution_count": 1,
      "outputs": []
    },
    {
      "cell_type": "code",
      "source": [
        "# Load Historical price data\n",
        "from google.colab import files\n",
        "files.upload()\n"
      ],
      "metadata": {
        "colab": {
          "resources": {
            "http://localhost:8080/nbextensions/google.colab/files.js": {
              "data": "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",
              "ok": true,
              "headers": [
                [
                  "content-type",
                  "application/javascript"
                ]
              ],
              "status": 200,
              "status_text": ""
            }
          },
          "base_uri": "https://localhost:8080/",
          "height": 110
        },
        "id": "o6i4wO6YZxcN",
        "outputId": "23cee3e0-14ea-4ffa-c223-414c85dc53cf"
      },
      "execution_count": 2,
      "outputs": [
        {
          "output_type": "display_data",
          "data": {
            "text/html": [
              "\n",
              "     <input type=\"file\" id=\"files-cc6cda0b-8510-4d5a-92de-f3bb228c89cc\" name=\"files[]\" multiple disabled\n",
              "        style=\"border:none\" />\n",
              "     <output id=\"result-cc6cda0b-8510-4d5a-92de-f3bb228c89cc\">\n",
              "      Upload widget is only available when the cell has been executed in the\n",
              "      current browser session. Please rerun this cell to enable.\n",
              "      </output>\n",
              "      <script src=\"/nbextensions/google.colab/files.js\"></script> "
            ],
            "text/plain": [
              "<IPython.core.display.HTML object>"
            ]
          },
          "metadata": {}
        },
        {
          "output_type": "stream",
          "name": "stdout",
          "text": [
            "Saving AAPL.csv to AAPL.csv\n"
          ]
        },
        {
          "output_type": "execute_result",
          "data": {
            "text/plain": [
              "{'AAPL.csv': b'Date,Open,High,Low,Close,Adj Close,Volume\\n2014-09-29,100.589996,100.690002,98.040001,99.620003,93.514290,142718700\\n2014-10-06,99.949997,102.379997,98.309998,100.730003,94.556244,280258200\\n2014-10-13,101.330002,101.779999,95.180000,97.669998,91.683792,358539800\\n2014-10-20,98.320000,105.489998,98.220001,105.220001,98.771042,358532900\\n2014-10-27,104.849998,108.040001,104.699997,108.000000,101.380676,220230600\\n2014-11-03,108.220001,110.300003,107.720001,109.010002,102.328766,199952900\\n2014-11-10,109.019997,114.190002,108.400002,114.180000,107.646675,205166700\\n2014-11-17,114.269997,117.570000,113.300003,116.470001,109.805626,233414700\\n2014-11-24,116.849998,119.750000,116.620003,118.930000,112.124863,181873900\\n2014-12-01,118.809998,119.250000,111.269997,115.000000,108.419746,266589700\\n2014-12-08,114.099998,114.849998,109.349998,109.730003,103.451294,259868000\\n2014-12-15,110.699997,113.239998,106.260002,111.779999,105.383980,328856600\\n2014-12-22,112.160004,114.519997,111.970001,113.989998,107.467529,119396500\\n2014-12-29,113.790001,114.769997,107.349998,109.330002,103.074181,152088400\\n2015-01-05,108.290001,113.250000,104.629997,112.010002,105.600830,283252500\\n2015-01-12,112.599998,112.800003,105.199997,105.989998,99.925285,303607000\\n2015-01-19,107.839996,113.750000,106.500000,112.980003,106.515343,198737000\\n2015-01-26,113.739998,120.000000,109.029999,117.160004,110.456146,465842700\\n2015-02-02,118.050003,120.510002,116.080002,118.930000,112.124863,270757300\\n2015-02-09,118.550003,127.480003,118.430000,127.080002,120.281372,303206800\\n2015-02-16,127.489998,129.500000,126.919998,129.500000,122.571915,194354900\\n2015-02-23,130.020004,133.600006,126.610001,128.460007,121.587555,368216200\\n2015-03-02,129.250000,130.279999,125.760002,126.599998,119.827042,246938500\\n2015-03-09,127.959999,129.570007,121.629997,123.589996,116.978073,326514100\\n2015-03-16,123.879997,129.250000,122.870003,125.900002,119.164505,266672900\\n2015-03-23,127.120003,128.039993,122.599998,123.250000,116.656273,209326300\\n2015-03-30,124.050003,126.489998,123.099998,125.320000,118.615524,162031800\\n2015-04-06,124.470001,128.119995,124.330002,127.099998,120.300301,182207500\\n2015-04-13,128.369995,128.570007,124.459999,124.750000,118.076019,171186100\\n2015-04-20,125.570000,130.630005,125.169998,130.279999,123.310150,207440700\\n2015-04-27,132.309998,134.539993,124.580002,128.949997,122.051315,420972300\\n2015-05-04,129.500000,130.570007,123.360001,127.620003,120.792480,271892000\\n2015-05-11,127.389999,129.490005,124.820000,128.770004,122.390060,208301500\\n2015-05-18,128.380005,132.970001,128.360001,132.539993,125.973259,217297400\\n2015-05-25,132.600006,132.910004,129.119995,130.279999,123.825241,198148600\\n2015-06-01,130.279999,131.389999,128.360001,128.649994,122.276009,170746700\\n2015-06-08,128.899994,130.179993,125.620003,127.169998,120.869339,220114600\\n2015-06-15,126.099998,128.309998,125.709999,126.599998,120.327568,198525200\\n2015-06-22,127.489998,129.800003,126.510002,126.750000,120.470139,195594000\\n2015-06-29,125.459999,126.940002,124.480003,126.440002,120.175491,150981900\\n2015-07-06,124.940002,126.230003,119.220001,123.279999,117.172066,274944900\\n2015-07-13,125.029999,129.619995,124.320000,129.619995,123.197937,189244900\\n2015-07-20,130.970001,132.970001,121.989998,124.500000,118.331619,344269000\\n2015-07-27,123.089996,123.910004,120.910004,121.300003,115.290154,191598600\\n2015-08-03,121.500000,122.570000,112.099998,115.519997,109.796532,385000600\\n2015-08-10,116.529999,119.989998,109.629997,115.959999,110.713608,344717200\\n2015-08-17,116.040001,117.650002,105.650002,105.760002,100.975098,319668200\\n2015-08-24,94.870003,113.309998,92.000000,113.290001,108.164406,500363000\\n2015-08-31,112.029999,114.529999,107.360001,109.269997,104.326286,298194200\\n2015-09-07,111.750000,114.209999,109.769997,114.209999,109.042786,252662700\\n2015-09-14,116.580002,116.889999,111.870003,113.449997,108.317177,277276000\\n2015-09-21,113.669998,116.690002,112.370003,114.709999,109.520172,242696300\\n2015-09-28,113.849998,114.570000,107.309998,110.379997,105.386070,313896300\\n2015-10-05,109.879997,112.279999,108.209999,112.120003,107.047340,261772800\\n2015-10-12,112.730003,112.750000,109.559998,111.040001,106.016205,184885000\\n2015-10-19,110.800003,119.230003,110.110001,119.080002,113.692459,221354200\\n2015-10-26,118.080002,121.220001,113.989998,119.500000,114.093460,322362200\\n2015-11-02,120.800003,123.820000,119.610001,121.059998,115.582863,195203400\\n2015-11-09,120.959999,121.809998,112.269997,112.339996,107.716499,216555300\\n2015-11-16,111.379997,119.919998,111.000000,119.300003,114.390068,189981200\\n2015-11-23,119.269997,119.730003,117.120003,117.809998,112.961388,109720400\\n2015-11-30,117.989998,119.410004,114.220001,119.029999,114.131180,206765800\\n2015-12-07,118.980003,119.860001,112.849998,113.180000,108.521950,188745500\\n2015-12-14,112.180000,112.800003,105.809998,106.029999,101.666199,315106400\\n2015-12-21,107.279999,109.000000,105.570000,108.029999,103.583900,126607800\\n2015-12-28,107.589996,109.430000,104.820000,105.260002,100.927895,123484500\\n2016-01-04,102.610001,105.849998,96.430000,96.959999,92.969490,343790200\\n2016-01-11,98.970001,101.190002,95.360001,97.129997,93.132492,303513300\\n2016-01-18,98.410004,101.459999,93.419998,101.419998,97.245926,243384100\\n2016-01-25,101.519997,101.529999,92.389999,97.339996,93.333847,380336500\\n2016-02-01,96.470001,97.330002,93.690002,94.019997,90.150482,217154800\\n2016-02-08,93.129997,96.349998,92.589996,93.989998,90.610756,231122300\\n2016-02-15,95.019997,98.889999,94.610001,96.040001,92.587051,168316300\\n2016-02-22,96.309998,98.019997,93.320000,96.910004,93.425774,159052900\\n2016-02-29,96.860001,103.750000,96.650002,103.010002,99.306450,201803800\\n2016-03-07,102.389999,102.830002,100.150002,102.260002,98.583405,155514300\\n2016-03-14,101.910004,106.500000,101.779999,105.919998,102.111832,182073200\\n2016-03-21,105.930000,107.650002,104.889999,105.669998,101.870811,119783600\\n2016-03-28,106.000000,110.419998,104.879997,109.989998,106.035492,147965000\\n2016-04-04,110.419998,112.190002,108.120003,108.660004,104.753311,145722600\\n2016-04-11,108.970001,112.389999,108.660004,109.849998,105.900528,162310000\\n2016-04-18,108.889999,108.949997,104.620003,105.680000,101.880447,189065500\\n2016-04-25,105.000000,105.650002,92.510002,93.739998,90.369751,349424100\\n2016-05-02,93.970001,95.900002,91.849998,92.720001,89.386421,225365600\\n2016-05-09,93.000000,93.769997,89.470001,90.519997,87.796822,216049800\\n2016-05-16,92.389999,95.430000,91.650002,95.220001,92.355438,212707200\\n2016-05-23,95.870003,100.730003,95.669998,100.349998,97.331093,203888300\\n2016-05-30,99.599998,100.400002,96.629997,97.919998,94.974190,139735000\\n2016-06-06,97.989998,101.889999,97.550003,98.830002,95.856812,124864400\\n2016-06-13,98.690002,99.120003,95.300003,95.330002,92.462112,191732600\\n2016-06-20,96.000000,96.889999,92.650002,93.400002,90.590179,206729000\\n2016-06-27,93.000000,96.470001,91.500000,95.889999,93.005264,184328400\\n2016-07-04,95.389999,96.889999,94.370003,96.680000,93.771507,112706000\\n2016-07-11,96.750000,99.300003,96.730003,98.779999,95.808327,142910600\\n2016-07-18,98.699997,101.000000,98.309998,98.660004,95.691940,147565500\\n2016-07-25,98.250000,104.550003,96.419998,104.209999,101.074974,256571000\\n2016-08-01,104.410004,107.650002,104.000000,107.480003,104.246605,170149200\\n2016-08-08,107.519997,108.940002,107.160004,108.180000,105.493942,124505800\\n2016-08-15,108.139999,110.230003,108.080002,109.360001,106.644638,132371400\\n2016-08-22,108.860001,109.320000,106.309998,106.940002,104.284737,123605500\\n2016-08-29,106.620003,108.000000,105.500000,107.730003,105.055122,133000600\\n2016-09-05,107.900002,108.760002,103.129997,103.129997,100.569328,168803700\\n2016-09-12,102.650002,116.129997,102.529999,114.919998,112.066589,388228200\\n2016-09-19,115.190002,116.180000,111.550003,112.709999,109.911469,201095700\\n2016-09-26,111.639999,114.639999,111.550003,113.050003,110.243034,156384000\\n2016-10-03,112.709999,114.559998,112.279999,114.059998,111.227943,126029400\\n2016-10-10,115.019997,118.690002,114.720001,117.629997,114.709305,208708400\\n2016-10-17,117.330002,118.209999,113.800003,116.599998,113.704872,115531500\\n2016-10-24,117.099998,118.360001,113.309998,113.720001,110.896393,210225600\\n2016-10-31,113.650002,114.230003,108.110001,108.839996,106.137550,156346500\\n2016-11-07,110.080002,111.720001,105.830002,108.430000,106.280617,207019500\\n2016-11-14,107.709999,110.540001,104.080002,110.059998,107.878304,198341400\\n2016-11-21,110.120003,112.419998,110.010002,111.790001,109.574020,94132400\\n2016-11-28,111.430000,112.470001,108.849998,109.900002,107.721481,155500000\\n2016-12-05,110.000000,114.699997,108.250000,113.949997,111.691200,151989600\\n2016-12-12,113.290001,116.730003,112.489998,115.970001,113.671158,195015600\\n2016-12-19,115.800003,117.500000,115.589996,116.519997,114.210243,113254700\\n2016-12-26,116.519997,118.019997,115.430000,115.820000,113.524132,84828600\\n2017-01-02,115.800003,118.160004,114.760002,117.910004,115.572708,103845500\\n2017-01-09,117.949997,119.930000,117.940002,119.040001,116.680298,138810700\\n2017-01-16,118.339996,120.500000,118.220001,120.000000,117.621269,116348000\\n2017-01-23,120.000000,122.440002,119.500000,121.949997,119.532608,124539300\\n2017-01-30,120.930000,130.490005,120.620003,129.080002,126.521278,249781200\\n2017-02-06,129.130005,132.940002,128.899994,132.119995,129.501022,136449200\\n2017-02-13,133.080002,136.270004,132.750000,135.720001,133.606430,136667500\\n2017-02-20,136.229996,137.479996,135.279999,136.660004,134.531784,87908900\\n2017-02-27,137.139999,140.279999,136.279999,139.779999,137.603180,127474000\\n2017-03-06,139.369995,139.979996,137.050003,139.139999,136.973145,99672200\\n2017-03-13,138.850006,141.020004,138.820007,139.990005,137.809906,121539600\\n2017-03-20,140.399994,142.800003,139.729996,140.639999,138.449783,129674000\\n2017-03-27,139.389999,144.500000,138.619995,143.660004,141.422775,127008900\\n2017-04-03,143.710007,145.460007,143.050003,143.339996,141.107742,105416200\\n2017-04-10,143.600006,143.880005,140.059998,141.050003,138.853424,87485700\\n2017-04-17,141.479996,142.919998,140.449997,142.270004,140.054428,89248500\\n2017-04-24,143.500000,144.899994,143.179993,143.649994,141.412903,91153700\\n2017-05-01,145.100006,148.979996,144.270004,148.960007,146.640244,175351700\\n2017-05-08,149.029999,156.419998,149.029999,156.100006,153.669052,173470600\\n2017-05-15,156.009995,156.649994,149.710007,153.059998,151.298309,157354900\\n2017-05-22,154.000000,154.899994,152.669998,153.610001,151.841980,103000000\\n2017-05-29,153.419998,155.449997,152.220001,155.449997,153.660797,88752900\\n2017-06-05,154.339996,155.979996,146.020004,148.979996,147.265274,159159700\\n2017-06-12,145.740005,147.500000,142.199997,142.270004,140.632507,220530400\\n2017-06-19,143.660004,147.160004,143.660004,146.279999,144.596344,133253000\\n2017-06-26,147.169998,148.279999,142.279999,144.020004,142.362366,127060200\\n2017-07-03,144.880005,145.300003,142.410004,144.179993,142.520508,79158400\\n2017-07-10,144.110001,149.330002,143.369995,149.039993,147.324570,111088400\\n2017-07-17,148.820007,151.740005,148.570007,150.270004,148.540421,106081600\\n2017-07-24,150.580002,153.990005,147.300003,149.500000,147.779282,105818100\\n2017-07-31,149.899994,159.750000,148.130005,156.389999,154.589981,172808500\\n2017-08-07,157.059998,161.830002,154.630005,157.479996,155.667435,151269100\\n2017-08-14,159.320007,162.509995,156.720001,157.500000,156.298584,134628500\\n2017-08-21,157.500000,160.740005,155.110001,159.860001,158.640594,112671200\\n2017-08-28,160.139999,164.940002,159.929993,164.050003,162.798615,126128700\\n2017-09-04,163.750000,164.250000,158.529999,158.630005,157.419983,101660200\\n2017-09-11,160.500000,163.960007,157.910004,159.880005,158.660431,220582600\\n2017-09-18,160.110001,160.500000,150.559998,151.889999,150.731384,186188500\\n2017-09-25,149.990005,154.720001,149.160004,154.119995,152.944366,154856800\\n2017-10-02,154.259995,155.490005,152.460007,155.300003,154.115372,93784300\\n2017-10-09,155.809998,158.000000,155.100006,156.990005,155.792496,81304800\\n2017-10-16,157.899994,160.869995,155.020004,156.250000,155.058121,126051300\\n2017-10-23,156.889999,163.600006,155.270004,163.050003,161.806259,122403300\\n2017-10-30,163.889999,174.259995,163.720001,172.500000,171.184174,215177400\\n2017-11-06,172.369995,176.240005,171.720001,174.669998,173.337601,138425400\\n2017-11-13,173.500000,174.500000,168.380005,170.149994,169.459091,116459700\\n2017-11-20,170.289993,175.500000,169.559998,174.970001,174.259521,81009300\\n2017-11-27,175.050003,175.080002,167.160004,171.050003,170.355438,170098500\\n2017-12-04,172.479996,172.619995,166.460007,169.369995,168.682251,137481100\\n2017-12-11,169.199997,174.169998,168.789993,173.970001,173.263580,139147200\\n2017-12-18,174.880005,177.199997,173.250000,175.009995,174.299362,117632400\\n2017-12-25,170.800003,171.850006,169.220001,169.229996,168.542831,97163800\\n2018-01-01,170.160004,175.369995,169.259995,175.000000,174.289398,101168400\\n2018-01-08,174.350006,177.360001,173.000000,177.089996,176.370911,110197500\\n2018-01-15,177.899994,180.100006,175.070007,178.460007,177.735352,127571200\\n2018-01-22,177.300003,179.440002,170.059998,171.509995,170.813568,191574800\\n2018-01-29,170.160004,170.160004,160.100006,160.500000,159.848282,262992100\\n2018-02-05,159.100006,163.880005,150.240005,156.410004,155.774887,317654000\\n2018-02-12,158.500000,174.820007,157.509995,172.429993,172.429993,225336900\\n2018-02-19,172.050003,175.649994,171.009995,175.500000,175.500000,136206400\\n2018-02-26,176.350006,180.619995,172.449997,176.210007,176.210007,202128400\\n2018-03-05,175.210007,180.000000,174.270004,179.979996,179.979996,139852700\\n2018-03-12,180.289993,183.500000,177.619995,178.020004,178.020004,155417500\\n2018-03-19,177.320007,177.470001,164.940002,164.940002,164.940002,172670700\\n2018-03-26,168.070007,175.149994,165.190002,167.779999,167.779999,157898400\\n2018-03-29,167.804993,171.750000,166.899994,167.779999,167.779999,38398505\\n'}"
            ]
          },
          "metadata": {},
          "execution_count": 2
        }
      ]
    },
    {
      "cell_type": "code",
      "source": [
        "# Read the uploaded data\n",
        "# Remove space from the header(column heading)\n",
        "df = pd.read_csv('AAPL.csv',  delimiter=',', header=None, skiprows=1, names=['Date','Open','High','Low','Close','Adj Close','Volume'])\n",
        "# print the read data\n",
        "df"
      ],
      "metadata": {
        "colab": {
          "base_uri": "https://localhost:8080/",
          "height": 402
        },
        "id": "iev1FFqGbU34",
        "outputId": "fac73386-1d28-4aae-a612-872942fe5f7b"
      },
      "execution_count": 46,
      "outputs": [
        {
          "output_type": "execute_result",
          "data": {
            "text/html": [
              "<div>\n",
              "<style scoped>\n",
              "    .dataframe tbody tr th:only-of-type {\n",
              "        vertical-align: middle;\n",
              "    }\n",
              "\n",
              "    .dataframe tbody tr th {\n",
              "        vertical-align: top;\n",
              "    }\n",
              "\n",
              "    .dataframe thead th {\n",
              "        text-align: right;\n",
              "    }\n",
              "</style>\n",
              "<table border=\"1\" class=\"dataframe\">\n",
              "  <thead>\n",
              "    <tr style=\"text-align: right;\">\n",
              "      <th></th>\n",
              "      <th>Date</th>\n",
              "      <th>Open</th>\n",
              "      <th>High</th>\n",
              "      <th>Low</th>\n",
              "      <th>Close</th>\n",
              "      <th>Adj Close</th>\n",
              "      <th>Volume</th>\n",
              "    </tr>\n",
              "  </thead>\n",
              "  <tbody>\n",
              "    <tr>\n",
              "      <th>0</th>\n",
              "      <td>2014-09-29</td>\n",
              "      <td>100.589996</td>\n",
              "      <td>100.690002</td>\n",
              "      <td>98.040001</td>\n",
              "      <td>99.620003</td>\n",
              "      <td>93.514290</td>\n",
              "      <td>142718700</td>\n",
              "    </tr>\n",
              "    <tr>\n",
              "      <th>1</th>\n",
              "      <td>2014-10-06</td>\n",
              "      <td>99.949997</td>\n",
              "      <td>102.379997</td>\n",
              "      <td>98.309998</td>\n",
              "      <td>100.730003</td>\n",
              "      <td>94.556244</td>\n",
              "      <td>280258200</td>\n",
              "    </tr>\n",
              "    <tr>\n",
              "      <th>2</th>\n",
              "      <td>2014-10-13</td>\n",
              "      <td>101.330002</td>\n",
              "      <td>101.779999</td>\n",
              "      <td>95.180000</td>\n",
              "      <td>97.669998</td>\n",
              "      <td>91.683792</td>\n",
              "      <td>358539800</td>\n",
              "    </tr>\n",
              "    <tr>\n",
              "      <th>3</th>\n",
              "      <td>2014-10-20</td>\n",
              "      <td>98.320000</td>\n",
              "      <td>105.489998</td>\n",
              "      <td>98.220001</td>\n",
              "      <td>105.220001</td>\n",
              "      <td>98.771042</td>\n",
              "      <td>358532900</td>\n",
              "    </tr>\n",
              "    <tr>\n",
              "      <th>4</th>\n",
              "      <td>2014-10-27</td>\n",
              "      <td>104.849998</td>\n",
              "      <td>108.040001</td>\n",
              "      <td>104.699997</td>\n",
              "      <td>108.000000</td>\n",
              "      <td>101.380676</td>\n",
              "      <td>220230600</td>\n",
              "    </tr>\n",
              "    <tr>\n",
              "      <th>...</th>\n",
              "      <td>...</td>\n",
              "      <td>...</td>\n",
              "      <td>...</td>\n",
              "      <td>...</td>\n",
              "      <td>...</td>\n",
              "      <td>...</td>\n",
              "      <td>...</td>\n",
              "    </tr>\n",
              "    <tr>\n",
              "      <th>179</th>\n",
              "      <td>2018-03-05</td>\n",
              "      <td>175.210007</td>\n",
              "      <td>180.000000</td>\n",
              "      <td>174.270004</td>\n",
              "      <td>179.979996</td>\n",
              "      <td>179.979996</td>\n",
              "      <td>139852700</td>\n",
              "    </tr>\n",
              "    <tr>\n",
              "      <th>180</th>\n",
              "      <td>2018-03-12</td>\n",
              "      <td>180.289993</td>\n",
              "      <td>183.500000</td>\n",
              "      <td>177.619995</td>\n",
              "      <td>178.020004</td>\n",
              "      <td>178.020004</td>\n",
              "      <td>155417500</td>\n",
              "    </tr>\n",
              "    <tr>\n",
              "      <th>181</th>\n",
              "      <td>2018-03-19</td>\n",
              "      <td>177.320007</td>\n",
              "      <td>177.470001</td>\n",
              "      <td>164.940002</td>\n",
              "      <td>164.940002</td>\n",
              "      <td>164.940002</td>\n",
              "      <td>172670700</td>\n",
              "    </tr>\n",
              "    <tr>\n",
              "      <th>182</th>\n",
              "      <td>2018-03-26</td>\n",
              "      <td>168.070007</td>\n",
              "      <td>175.149994</td>\n",
              "      <td>165.190002</td>\n",
              "      <td>167.779999</td>\n",
              "      <td>167.779999</td>\n",
              "      <td>157898400</td>\n",
              "    </tr>\n",
              "    <tr>\n",
              "      <th>183</th>\n",
              "      <td>2018-03-29</td>\n",
              "      <td>167.804993</td>\n",
              "      <td>171.750000</td>\n",
              "      <td>166.899994</td>\n",
              "      <td>167.779999</td>\n",
              "      <td>167.779999</td>\n",
              "      <td>38398505</td>\n",
              "    </tr>\n",
              "  </tbody>\n",
              "</table>\n",
              "<p>184 rows × 7 columns</p>\n",
              "</div>"
            ],
            "text/plain": [
              "           Date        Open        High  ...       Close   Adj Close     Volume\n",
              "0    2014-09-29  100.589996  100.690002  ...   99.620003   93.514290  142718700\n",
              "1    2014-10-06   99.949997  102.379997  ...  100.730003   94.556244  280258200\n",
              "2    2014-10-13  101.330002  101.779999  ...   97.669998   91.683792  358539800\n",
              "3    2014-10-20   98.320000  105.489998  ...  105.220001   98.771042  358532900\n",
              "4    2014-10-27  104.849998  108.040001  ...  108.000000  101.380676  220230600\n",
              "..          ...         ...         ...  ...         ...         ...        ...\n",
              "179  2018-03-05  175.210007  180.000000  ...  179.979996  179.979996  139852700\n",
              "180  2018-03-12  180.289993  183.500000  ...  178.020004  178.020004  155417500\n",
              "181  2018-03-19  177.320007  177.470001  ...  164.940002  164.940002  172670700\n",
              "182  2018-03-26  168.070007  175.149994  ...  167.779999  167.779999  157898400\n",
              "183  2018-03-29  167.804993  171.750000  ...  167.779999  167.779999   38398505\n",
              "\n",
              "[184 rows x 7 columns]"
            ]
          },
          "metadata": {},
          "execution_count": 46
        }
      ]
    },
    {
      "cell_type": "code",
      "source": [
        "# Prophet is facebook time prediction library\n",
        "# Select the 2 columns \n",
        "df = df[['Date','Close']]\n",
        "# Rename the columns to model requirements\n",
        "df = df.rename(columns={'Date':'ds','Close':'y'})\n",
        "# Print the answer\n",
        "df"
      ],
      "metadata": {
        "colab": {
          "base_uri": "https://localhost:8080/",
          "height": 402
        },
        "id": "5usF7JUWbxV9",
        "outputId": "ae24504c-f1df-497d-a529-9e3afe31b041"
      },
      "execution_count": 47,
      "outputs": [
        {
          "output_type": "execute_result",
          "data": {
            "text/html": [
              "<div>\n",
              "<style scoped>\n",
              "    .dataframe tbody tr th:only-of-type {\n",
              "        vertical-align: middle;\n",
              "    }\n",
              "\n",
              "    .dataframe tbody tr th {\n",
              "        vertical-align: top;\n",
              "    }\n",
              "\n",
              "    .dataframe thead th {\n",
              "        text-align: right;\n",
              "    }\n",
              "</style>\n",
              "<table border=\"1\" class=\"dataframe\">\n",
              "  <thead>\n",
              "    <tr style=\"text-align: right;\">\n",
              "      <th></th>\n",
              "      <th>ds</th>\n",
              "      <th>y</th>\n",
              "    </tr>\n",
              "  </thead>\n",
              "  <tbody>\n",
              "    <tr>\n",
              "      <th>0</th>\n",
              "      <td>2014-09-29</td>\n",
              "      <td>99.620003</td>\n",
              "    </tr>\n",
              "    <tr>\n",
              "      <th>1</th>\n",
              "      <td>2014-10-06</td>\n",
              "      <td>100.730003</td>\n",
              "    </tr>\n",
              "    <tr>\n",
              "      <th>2</th>\n",
              "      <td>2014-10-13</td>\n",
              "      <td>97.669998</td>\n",
              "    </tr>\n",
              "    <tr>\n",
              "      <th>3</th>\n",
              "      <td>2014-10-20</td>\n",
              "      <td>105.220001</td>\n",
              "    </tr>\n",
              "    <tr>\n",
              "      <th>4</th>\n",
              "      <td>2014-10-27</td>\n",
              "      <td>108.000000</td>\n",
              "    </tr>\n",
              "    <tr>\n",
              "      <th>...</th>\n",
              "      <td>...</td>\n",
              "      <td>...</td>\n",
              "    </tr>\n",
              "    <tr>\n",
              "      <th>179</th>\n",
              "      <td>2018-03-05</td>\n",
              "      <td>179.979996</td>\n",
              "    </tr>\n",
              "    <tr>\n",
              "      <th>180</th>\n",
              "      <td>2018-03-12</td>\n",
              "      <td>178.020004</td>\n",
              "    </tr>\n",
              "    <tr>\n",
              "      <th>181</th>\n",
              "      <td>2018-03-19</td>\n",
              "      <td>164.940002</td>\n",
              "    </tr>\n",
              "    <tr>\n",
              "      <th>182</th>\n",
              "      <td>2018-03-26</td>\n",
              "      <td>167.779999</td>\n",
              "    </tr>\n",
              "    <tr>\n",
              "      <th>183</th>\n",
              "      <td>2018-03-29</td>\n",
              "      <td>167.779999</td>\n",
              "    </tr>\n",
              "  </tbody>\n",
              "</table>\n",
              "<p>184 rows × 2 columns</p>\n",
              "</div>"
            ],
            "text/plain": [
              "             ds           y\n",
              "0    2014-09-29   99.620003\n",
              "1    2014-10-06  100.730003\n",
              "2    2014-10-13   97.669998\n",
              "3    2014-10-20  105.220001\n",
              "4    2014-10-27  108.000000\n",
              "..          ...         ...\n",
              "179  2018-03-05  179.979996\n",
              "180  2018-03-12  178.020004\n",
              "181  2018-03-19  164.940002\n",
              "182  2018-03-26  167.779999\n",
              "183  2018-03-29  167.779999\n",
              "\n",
              "[184 rows x 2 columns]"
            ]
          },
          "metadata": {},
          "execution_count": 47
        }
      ]
    },
    {
      "cell_type": "code",
      "source": [
        "# Get last 20 rows of data and store it in a new variable\n",
        "last = df[len(df)-20:]\n",
        "last"
      ],
      "metadata": {
        "colab": {
          "base_uri": "https://localhost:8080/",
          "height": 639
        },
        "id": "qaCny9T-hMvK",
        "outputId": "77e13aa2-9d58-4028-fba3-01de1506871d"
      },
      "execution_count": 48,
      "outputs": [
        {
          "output_type": "execute_result",
          "data": {
            "text/html": [
              "<div>\n",
              "<style scoped>\n",
              "    .dataframe tbody tr th:only-of-type {\n",
              "        vertical-align: middle;\n",
              "    }\n",
              "\n",
              "    .dataframe tbody tr th {\n",
              "        vertical-align: top;\n",
              "    }\n",
              "\n",
              "    .dataframe thead th {\n",
              "        text-align: right;\n",
              "    }\n",
              "</style>\n",
              "<table border=\"1\" class=\"dataframe\">\n",
              "  <thead>\n",
              "    <tr style=\"text-align: right;\">\n",
              "      <th></th>\n",
              "      <th>ds</th>\n",
              "      <th>y</th>\n",
              "    </tr>\n",
              "  </thead>\n",
              "  <tbody>\n",
              "    <tr>\n",
              "      <th>164</th>\n",
              "      <td>2017-11-20</td>\n",
              "      <td>174.970001</td>\n",
              "    </tr>\n",
              "    <tr>\n",
              "      <th>165</th>\n",
              "      <td>2017-11-27</td>\n",
              "      <td>171.050003</td>\n",
              "    </tr>\n",
              "    <tr>\n",
              "      <th>166</th>\n",
              "      <td>2017-12-04</td>\n",
              "      <td>169.369995</td>\n",
              "    </tr>\n",
              "    <tr>\n",
              "      <th>167</th>\n",
              "      <td>2017-12-11</td>\n",
              "      <td>173.970001</td>\n",
              "    </tr>\n",
              "    <tr>\n",
              "      <th>168</th>\n",
              "      <td>2017-12-18</td>\n",
              "      <td>175.009995</td>\n",
              "    </tr>\n",
              "    <tr>\n",
              "      <th>169</th>\n",
              "      <td>2017-12-25</td>\n",
              "      <td>169.229996</td>\n",
              "    </tr>\n",
              "    <tr>\n",
              "      <th>170</th>\n",
              "      <td>2018-01-01</td>\n",
              "      <td>175.000000</td>\n",
              "    </tr>\n",
              "    <tr>\n",
              "      <th>171</th>\n",
              "      <td>2018-01-08</td>\n",
              "      <td>177.089996</td>\n",
              "    </tr>\n",
              "    <tr>\n",
              "      <th>172</th>\n",
              "      <td>2018-01-15</td>\n",
              "      <td>178.460007</td>\n",
              "    </tr>\n",
              "    <tr>\n",
              "      <th>173</th>\n",
              "      <td>2018-01-22</td>\n",
              "      <td>171.509995</td>\n",
              "    </tr>\n",
              "    <tr>\n",
              "      <th>174</th>\n",
              "      <td>2018-01-29</td>\n",
              "      <td>160.500000</td>\n",
              "    </tr>\n",
              "    <tr>\n",
              "      <th>175</th>\n",
              "      <td>2018-02-05</td>\n",
              "      <td>156.410004</td>\n",
              "    </tr>\n",
              "    <tr>\n",
              "      <th>176</th>\n",
              "      <td>2018-02-12</td>\n",
              "      <td>172.429993</td>\n",
              "    </tr>\n",
              "    <tr>\n",
              "      <th>177</th>\n",
              "      <td>2018-02-19</td>\n",
              "      <td>175.500000</td>\n",
              "    </tr>\n",
              "    <tr>\n",
              "      <th>178</th>\n",
              "      <td>2018-02-26</td>\n",
              "      <td>176.210007</td>\n",
              "    </tr>\n",
              "    <tr>\n",
              "      <th>179</th>\n",
              "      <td>2018-03-05</td>\n",
              "      <td>179.979996</td>\n",
              "    </tr>\n",
              "    <tr>\n",
              "      <th>180</th>\n",
              "      <td>2018-03-12</td>\n",
              "      <td>178.020004</td>\n",
              "    </tr>\n",
              "    <tr>\n",
              "      <th>181</th>\n",
              "      <td>2018-03-19</td>\n",
              "      <td>164.940002</td>\n",
              "    </tr>\n",
              "    <tr>\n",
              "      <th>182</th>\n",
              "      <td>2018-03-26</td>\n",
              "      <td>167.779999</td>\n",
              "    </tr>\n",
              "    <tr>\n",
              "      <th>183</th>\n",
              "      <td>2018-03-29</td>\n",
              "      <td>167.779999</td>\n",
              "    </tr>\n",
              "  </tbody>\n",
              "</table>\n",
              "</div>"
            ],
            "text/plain": [
              "             ds           y\n",
              "164  2017-11-20  174.970001\n",
              "165  2017-11-27  171.050003\n",
              "166  2017-12-04  169.369995\n",
              "167  2017-12-11  173.970001\n",
              "168  2017-12-18  175.009995\n",
              "169  2017-12-25  169.229996\n",
              "170  2018-01-01  175.000000\n",
              "171  2018-01-08  177.089996\n",
              "172  2018-01-15  178.460007\n",
              "173  2018-01-22  171.509995\n",
              "174  2018-01-29  160.500000\n",
              "175  2018-02-05  156.410004\n",
              "176  2018-02-12  172.429993\n",
              "177  2018-02-19  175.500000\n",
              "178  2018-02-26  176.210007\n",
              "179  2018-03-05  179.979996\n",
              "180  2018-03-12  178.020004\n",
              "181  2018-03-19  164.940002\n",
              "182  2018-03-26  167.779999\n",
              "183  2018-03-29  167.779999"
            ]
          },
          "metadata": {},
          "execution_count": 48
        }
      ]
    },
    {
      "cell_type": "code",
      "source": [
        "# Get all the rows expect for last 20\n",
        "df = df[:-20]\n",
        "df"
      ],
      "metadata": {
        "colab": {
          "base_uri": "https://localhost:8080/",
          "height": 402
        },
        "id": "-8o07TmuhnOf",
        "outputId": "4db254a1-52bb-4359-8212-e15c4523df13"
      },
      "execution_count": 49,
      "outputs": [
        {
          "output_type": "execute_result",
          "data": {
            "text/html": [
              "<div>\n",
              "<style scoped>\n",
              "    .dataframe tbody tr th:only-of-type {\n",
              "        vertical-align: middle;\n",
              "    }\n",
              "\n",
              "    .dataframe tbody tr th {\n",
              "        vertical-align: top;\n",
              "    }\n",
              "\n",
              "    .dataframe thead th {\n",
              "        text-align: right;\n",
              "    }\n",
              "</style>\n",
              "<table border=\"1\" class=\"dataframe\">\n",
              "  <thead>\n",
              "    <tr style=\"text-align: right;\">\n",
              "      <th></th>\n",
              "      <th>ds</th>\n",
              "      <th>y</th>\n",
              "    </tr>\n",
              "  </thead>\n",
              "  <tbody>\n",
              "    <tr>\n",
              "      <th>0</th>\n",
              "      <td>2014-09-29</td>\n",
              "      <td>99.620003</td>\n",
              "    </tr>\n",
              "    <tr>\n",
              "      <th>1</th>\n",
              "      <td>2014-10-06</td>\n",
              "      <td>100.730003</td>\n",
              "    </tr>\n",
              "    <tr>\n",
              "      <th>2</th>\n",
              "      <td>2014-10-13</td>\n",
              "      <td>97.669998</td>\n",
              "    </tr>\n",
              "    <tr>\n",
              "      <th>3</th>\n",
              "      <td>2014-10-20</td>\n",
              "      <td>105.220001</td>\n",
              "    </tr>\n",
              "    <tr>\n",
              "      <th>4</th>\n",
              "      <td>2014-10-27</td>\n",
              "      <td>108.000000</td>\n",
              "    </tr>\n",
              "    <tr>\n",
              "      <th>...</th>\n",
              "      <td>...</td>\n",
              "      <td>...</td>\n",
              "    </tr>\n",
              "    <tr>\n",
              "      <th>159</th>\n",
              "      <td>2017-10-16</td>\n",
              "      <td>156.250000</td>\n",
              "    </tr>\n",
              "    <tr>\n",
              "      <th>160</th>\n",
              "      <td>2017-10-23</td>\n",
              "      <td>163.050003</td>\n",
              "    </tr>\n",
              "    <tr>\n",
              "      <th>161</th>\n",
              "      <td>2017-10-30</td>\n",
              "      <td>172.500000</td>\n",
              "    </tr>\n",
              "    <tr>\n",
              "      <th>162</th>\n",
              "      <td>2017-11-06</td>\n",
              "      <td>174.669998</td>\n",
              "    </tr>\n",
              "    <tr>\n",
              "      <th>163</th>\n",
              "      <td>2017-11-13</td>\n",
              "      <td>170.149994</td>\n",
              "    </tr>\n",
              "  </tbody>\n",
              "</table>\n",
              "<p>164 rows × 2 columns</p>\n",
              "</div>"
            ],
            "text/plain": [
              "             ds           y\n",
              "0    2014-09-29   99.620003\n",
              "1    2014-10-06  100.730003\n",
              "2    2014-10-13   97.669998\n",
              "3    2014-10-20  105.220001\n",
              "4    2014-10-27  108.000000\n",
              "..          ...         ...\n",
              "159  2017-10-16  156.250000\n",
              "160  2017-10-23  163.050003\n",
              "161  2017-10-30  172.500000\n",
              "162  2017-11-06  174.669998\n",
              "163  2017-11-13  170.149994\n",
              "\n",
              "[164 rows x 2 columns]"
            ]
          },
          "metadata": {},
          "execution_count": 49
        }
      ]
    },
    {
      "cell_type": "code",
      "source": [
        "# import fbprophet \n",
        "from fbprophet import Prophet\n",
        "# Create object for the Prophet library\n",
        "fpt = Prophet(daily_seasonality = True)\n",
        "# Fit and train the data model\n",
        "fpt.fit(df)\n",
        "future_pred = fpt.make_future_dataframe(periods=50)\n",
        "forecast_pred = fpt.predict(future_pred)\n"
      ],
      "metadata": {
        "colab": {
          "base_uri": "https://localhost:8080/"
        },
        "id": "VYiK0pzSiWqz",
        "outputId": "f4cdd82e-707f-48fb-f041-ed441bdb6478"
      },
      "execution_count": 36,
      "outputs": [
        {
          "output_type": "stream",
          "name": "stderr",
          "text": [
            "INFO:fbprophet:Disabling weekly seasonality. Run prophet with weekly_seasonality=True to override this.\n"
          ]
        }
      ]
    },
    {
      "cell_type": "code",
      "source": [
        "# import fbptophet plotter library\n",
        "from fbprophet.plot import plot_plotly, plot_components_plotly\n",
        "# plot the data\n",
        "plot_plotly(fpt, forecast_pred)\n"
      ],
      "metadata": {
        "colab": {
          "base_uri": "https://localhost:8080/",
          "height": 617
        },
        "id": "QeUw0fhMknmW",
        "outputId": "fbed4389-3c69-44ea-e925-80c4b3fee90a"
      },
      "execution_count": 50,
      "outputs": [
        {
          "output_type": "display_data",
          "data": {
            "text/html": [
              "<html>\n",
              "<head><meta charset=\"utf-8\" /></head>\n",
              "<body>\n",
              "    <div>\n",
              "            <script src=\"https://cdnjs.cloudflare.com/ajax/libs/mathjax/2.7.5/MathJax.js?config=TeX-AMS-MML_SVG\"></script><script type=\"text/javascript\">if (window.MathJax) {MathJax.Hub.Config({SVG: {font: \"STIX-Web\"}});}</script>\n",
              "                <script type=\"text/javascript\">window.PlotlyConfig = {MathJaxConfig: 'local'};</script>\n",
              "        <script src=\"https://cdn.plot.ly/plotly-latest.min.js\"></script>    \n",
              "            <div id=\"093a86e1-332c-4a9d-a3f7-5bc56c33ba8a\" class=\"plotly-graph-div\" style=\"height:600px; width:900px;\"></div>\n",
              "            <script type=\"text/javascript\">\n",
              "                \n",
              "                    window.PLOTLYENV=window.PLOTLYENV || {};\n",
              "                    \n",
              "                if (document.getElementById(\"093a86e1-332c-4a9d-a3f7-5bc56c33ba8a\")) {\n",
              "                    Plotly.newPlot(\n",
              "                        '093a86e1-332c-4a9d-a3f7-5bc56c33ba8a',\n",
              "                        [{\"marker\": {\"color\": \"black\", \"size\": 4}, \"mode\": \"markers\", \"name\": \"Actual\", \"type\": \"scatter\", \"x\": [\"2014-09-29T00:00:00\", \"2014-10-06T00:00:00\", \"2014-10-13T00:00:00\", \"2014-10-20T00:00:00\", \"2014-10-27T00:00:00\", \"2014-11-03T00:00:00\", \"2014-11-10T00:00:00\", \"2014-11-17T00:00:00\", \"2014-11-24T00:00:00\", \"2014-12-01T00:00:00\", \"2014-12-08T00:00:00\", \"2014-12-15T00:00:00\", \"2014-12-22T00:00:00\", \"2014-12-29T00:00:00\", \"2015-01-05T00:00:00\", \"2015-01-12T00:00:00\", \"2015-01-19T00:00:00\", \"2015-01-26T00:00:00\", \"2015-02-02T00:00:00\", \"2015-02-09T00:00:00\", \"2015-02-16T00:00:00\", \"2015-02-23T00:00:00\", \"2015-03-02T00:00:00\", \"2015-03-09T00:00:00\", \"2015-03-16T00:00:00\", \"2015-03-23T00:00:00\", \"2015-03-30T00:00:00\", \"2015-04-06T00:00:00\", \"2015-04-13T00:00:00\", \"2015-04-20T00:00:00\", \"2015-04-27T00:00:00\", \"2015-05-04T00:00:00\", \"2015-05-11T00:00:00\", \"2015-05-18T00:00:00\", \"2015-05-25T00:00:00\", \"2015-06-01T00:00:00\", \"2015-06-08T00:00:00\", \"2015-06-15T00:00:00\", \"2015-06-22T00:00:00\", \"2015-06-29T00:00:00\", \"2015-07-06T00:00:00\", \"2015-07-13T00:00:00\", \"2015-07-20T00:00:00\", \"2015-07-27T00:00:00\", \"2015-08-03T00:00:00\", \"2015-08-10T00:00:00\", \"2015-08-17T00:00:00\", \"2015-08-24T00:00:00\", \"2015-08-31T00:00:00\", \"2015-09-07T00:00:00\", \"2015-09-14T00:00:00\", \"2015-09-21T00:00:00\", \"2015-09-28T00:00:00\", \"2015-10-05T00:00:00\", \"2015-10-12T00:00:00\", \"2015-10-19T00:00:00\", \"2015-10-26T00:00:00\", \"2015-11-02T00:00:00\", \"2015-11-09T00:00:00\", \"2015-11-16T00:00:00\", \"2015-11-23T00:00:00\", \"2015-11-30T00:00:00\", \"2015-12-07T00:00:00\", \"2015-12-14T00:00:00\", \"2015-12-21T00:00:00\", \"2015-12-28T00:00:00\", \"2016-01-04T00:00:00\", \"2016-01-11T00:00:00\", \"2016-01-18T00:00:00\", \"2016-01-25T00:00:00\", \"2016-02-01T00:00:00\", \"2016-02-08T00:00:00\", \"2016-02-15T00:00:00\", \"2016-02-22T00:00:00\", \"2016-02-29T00:00:00\", \"2016-03-07T00:00:00\", \"2016-03-14T00:00:00\", \"2016-03-21T00:00:00\", \"2016-03-28T00:00:00\", \"2016-04-04T00:00:00\", \"2016-04-11T00:00:00\", \"2016-04-18T00:00:00\", \"2016-04-25T00:00:00\", \"2016-05-02T00:00:00\", \"2016-05-09T00:00:00\", \"2016-05-16T00:00:00\", \"2016-05-23T00:00:00\", \"2016-05-30T00:00:00\", \"2016-06-06T00:00:00\", \"2016-06-13T00:00:00\", \"2016-06-20T00:00:00\", \"2016-06-27T00:00:00\", \"2016-07-04T00:00:00\", \"2016-07-11T00:00:00\", \"2016-07-18T00:00:00\", \"2016-07-25T00:00:00\", \"2016-08-01T00:00:00\", \"2016-08-08T00:00:00\", \"2016-08-15T00:00:00\", \"2016-08-22T00:00:00\", \"2016-08-29T00:00:00\", \"2016-09-05T00:00:00\", \"2016-09-12T00:00:00\", \"2016-09-19T00:00:00\", \"2016-09-26T00:00:00\", \"2016-10-03T00:00:00\", \"2016-10-10T00:00:00\", \"2016-10-17T00:00:00\", \"2016-10-24T00:00:00\", \"2016-10-31T00:00:00\", \"2016-11-07T00:00:00\", \"2016-11-14T00:00:00\", \"2016-11-21T00:00:00\", \"2016-11-28T00:00:00\", \"2016-12-05T00:00:00\", \"2016-12-12T00:00:00\", \"2016-12-19T00:00:00\", \"2016-12-26T00:00:00\", \"2017-01-02T00:00:00\", \"2017-01-09T00:00:00\", \"2017-01-16T00:00:00\", \"2017-01-23T00:00:00\", \"2017-01-30T00:00:00\", \"2017-02-06T00:00:00\", \"2017-02-13T00:00:00\", \"2017-02-20T00:00:00\", \"2017-02-27T00:00:00\", \"2017-03-06T00:00:00\", \"2017-03-13T00:00:00\", \"2017-03-20T00:00:00\", \"2017-03-27T00:00:00\", \"2017-04-03T00:00:00\", \"2017-04-10T00:00:00\", \"2017-04-17T00:00:00\", \"2017-04-24T00:00:00\", \"2017-05-01T00:00:00\", \"2017-05-08T00:00:00\", \"2017-05-15T00:00:00\", \"2017-05-22T00:00:00\", \"2017-05-29T00:00:00\", \"2017-06-05T00:00:00\", \"2017-06-12T00:00:00\", \"2017-06-19T00:00:00\", \"2017-06-26T00:00:00\", \"2017-07-03T00:00:00\", \"2017-07-10T00:00:00\", \"2017-07-17T00:00:00\", \"2017-07-24T00:00:00\", \"2017-07-31T00:00:00\", \"2017-08-07T00:00:00\", \"2017-08-14T00:00:00\", \"2017-08-21T00:00:00\", \"2017-08-28T00:00:00\", \"2017-09-04T00:00:00\", \"2017-09-11T00:00:00\", \"2017-09-18T00:00:00\", \"2017-09-25T00:00:00\", \"2017-10-02T00:00:00\", \"2017-10-09T00:00:00\", \"2017-10-16T00:00:00\", \"2017-10-23T00:00:00\", \"2017-10-30T00:00:00\", \"2017-11-06T00:00:00\", \"2017-11-13T00:00:00\"], \"y\": [99.620003, 100.730003, 97.66999799999999, 105.220001, 108.0, 109.010002, 114.18, 116.470001, 118.93, 115.0, 109.730003, 111.779999, 113.989998, 109.33000200000001, 112.010002, 105.989998, 112.980003, 117.160004, 118.93, 127.08000200000001, 129.5, 128.46000700000002, 126.599998, 123.589996, 125.900002, 123.25, 125.32, 127.099998, 124.75, 130.279999, 128.949997, 127.620003, 128.770004, 132.53999299999998, 130.279999, 128.649994, 127.16999799999999, 126.599998, 126.75, 126.440002, 123.279999, 129.619995, 124.5, 121.300003, 115.519997, 115.959999, 105.760002, 113.290001, 109.269997, 114.209999, 113.449997, 114.709999, 110.379997, 112.120003, 111.040001, 119.08000200000001, 119.5, 121.059998, 112.339996, 119.300003, 117.809998, 119.029999, 113.18, 106.029999, 108.029999, 105.260002, 96.959999, 97.129997, 101.41999799999999, 97.339996, 94.019997, 93.989998, 96.040001, 96.910004, 103.010002, 102.260002, 105.91999799999999, 105.66999799999999, 109.989998, 108.660004, 109.849998, 105.68, 93.739998, 92.720001, 90.519997, 95.220001, 100.349998, 97.91999799999999, 98.83000200000001, 95.33000200000001, 93.400002, 95.889999, 96.68, 98.779999, 98.660004, 104.209999, 107.480003, 108.18, 109.360001, 106.940002, 107.730003, 103.129997, 114.91999799999999, 112.709999, 113.050003, 114.059998, 117.629997, 116.599998, 113.720001, 108.839996, 108.43, 110.059998, 111.790001, 109.900002, 113.949997, 115.970001, 116.519997, 115.82, 117.910004, 119.040001, 120.0, 121.949997, 129.080002, 132.119995, 135.720001, 136.66000400000001, 139.779999, 139.139999, 139.990005, 140.639999, 143.66000400000001, 143.33999599999999, 141.050003, 142.270004, 143.649994, 148.96000700000002, 156.100006, 153.059998, 153.610001, 155.449997, 148.979996, 142.270004, 146.279999, 144.020004, 144.179993, 149.03999299999998, 150.270004, 149.5, 156.389999, 157.479996, 157.5, 159.860001, 164.050003, 158.630005, 159.880005, 151.889999, 154.119995, 155.300003, 156.990005, 156.25, 163.050003, 172.5, 174.669998, 170.149994]}, {\"hoverinfo\": \"skip\", \"line\": {\"width\": 0}, \"mode\": \"lines\", \"type\": \"scatter\", \"x\": [\"2014-09-29T00:00:00\", \"2014-10-06T00:00:00\", \"2014-10-13T00:00:00\", \"2014-10-20T00:00:00\", \"2014-10-27T00:00:00\", \"2014-11-03T00:00:00\", \"2014-11-10T00:00:00\", \"2014-11-17T00:00:00\", \"2014-11-24T00:00:00\", \"2014-12-01T00:00:00\", \"2014-12-08T00:00:00\", \"2014-12-15T00:00:00\", \"2014-12-22T00:00:00\", \"2014-12-29T00:00:00\", \"2015-01-05T00:00:00\", \"2015-01-12T00:00:00\", \"2015-01-19T00:00:00\", \"2015-01-26T00:00:00\", \"2015-02-02T00:00:00\", \"2015-02-09T00:00:00\", \"2015-02-16T00:00:00\", \"2015-02-23T00:00:00\", \"2015-03-02T00:00:00\", \"2015-03-09T00:00:00\", \"2015-03-16T00:00:00\", \"2015-03-23T00:00:00\", \"2015-03-30T00:00:00\", \"2015-04-06T00:00:00\", \"2015-04-13T00:00:00\", \"2015-04-20T00:00:00\", \"2015-04-27T00:00:00\", \"2015-05-04T00:00:00\", \"2015-05-11T00:00:00\", \"2015-05-18T00:00:00\", \"2015-05-25T00:00:00\", \"2015-06-01T00:00:00\", \"2015-06-08T00:00:00\", \"2015-06-15T00:00:00\", \"2015-06-22T00:00:00\", \"2015-06-29T00:00:00\", \"2015-07-06T00:00:00\", \"2015-07-13T00:00:00\", \"2015-07-20T00:00:00\", \"2015-07-27T00:00:00\", \"2015-08-03T00:00:00\", \"2015-08-10T00:00:00\", \"2015-08-17T00:00:00\", \"2015-08-24T00:00:00\", \"2015-08-31T00:00:00\", \"2015-09-07T00:00:00\", \"2015-09-14T00:00:00\", \"2015-09-21T00:00:00\", \"2015-09-28T00:00:00\", \"2015-10-05T00:00:00\", \"2015-10-12T00:00:00\", \"2015-10-19T00:00:00\", \"2015-10-26T00:00:00\", \"2015-11-02T00:00:00\", \"2015-11-09T00:00:00\", \"2015-11-16T00:00:00\", \"2015-11-23T00:00:00\", \"2015-11-30T00:00:00\", \"2015-12-07T00:00:00\", \"2015-12-14T00:00:00\", \"2015-12-21T00:00:00\", \"2015-12-28T00:00:00\", \"2016-01-04T00:00:00\", \"2016-01-11T00:00:00\", \"2016-01-18T00:00:00\", \"2016-01-25T00:00:00\", \"2016-02-01T00:00:00\", \"2016-02-08T00:00:00\", \"2016-02-15T00:00:00\", \"2016-02-22T00:00:00\", \"2016-02-29T00:00:00\", \"2016-03-07T00:00:00\", \"2016-03-14T00:00:00\", \"2016-03-21T00:00:00\", \"2016-03-28T00:00:00\", \"2016-04-04T00:00:00\", \"2016-04-11T00:00:00\", \"2016-04-18T00:00:00\", \"2016-04-25T00:00:00\", \"2016-05-02T00:00:00\", \"2016-05-09T00:00:00\", \"2016-05-16T00:00:00\", \"2016-05-23T00:00:00\", \"2016-05-30T00:00:00\", \"2016-06-06T00:00:00\", \"2016-06-13T00:00:00\", \"2016-06-20T00:00:00\", \"2016-06-27T00:00:00\", \"2016-07-04T00:00:00\", \"2016-07-11T00:00:00\", \"2016-07-18T00:00:00\", \"2016-07-25T00:00:00\", \"2016-08-01T00:00:00\", \"2016-08-08T00:00:00\", \"2016-08-15T00:00:00\", \"2016-08-22T00:00:00\", \"2016-08-29T00:00:00\", \"2016-09-05T00:00:00\", \"2016-09-12T00:00:00\", \"2016-09-19T00:00:00\", \"2016-09-26T00:00:00\", \"2016-10-03T00:00:00\", \"2016-10-10T00:00:00\", \"2016-10-17T00:00:00\", \"2016-10-24T00:00:00\", \"2016-10-31T00:00:00\", \"2016-11-07T00:00:00\", \"2016-11-14T00:00:00\", \"2016-11-21T00:00:00\", \"2016-11-28T00:00:00\", \"2016-12-05T00:00:00\", \"2016-12-12T00:00:00\", \"2016-12-19T00:00:00\", \"2016-12-26T00:00:00\", \"2017-01-02T00:00:00\", \"2017-01-09T00:00:00\", \"2017-01-16T00:00:00\", \"2017-01-23T00:00:00\", \"2017-01-30T00:00:00\", \"2017-02-06T00:00:00\", \"2017-02-13T00:00:00\", \"2017-02-20T00:00:00\", \"2017-02-27T00:00:00\", \"2017-03-06T00:00:00\", \"2017-03-13T00:00:00\", \"2017-03-20T00:00:00\", \"2017-03-27T00:00:00\", \"2017-04-03T00:00:00\", \"2017-04-10T00:00:00\", \"2017-04-17T00:00:00\", \"2017-04-24T00:00:00\", \"2017-05-01T00:00:00\", \"2017-05-08T00:00:00\", \"2017-05-15T00:00:00\", \"2017-05-22T00:00:00\", \"2017-05-29T00:00:00\", \"2017-06-05T00:00:00\", \"2017-06-12T00:00:00\", \"2017-06-19T00:00:00\", \"2017-06-26T00:00:00\", \"2017-07-03T00:00:00\", \"2017-07-10T00:00:00\", \"2017-07-17T00:00:00\", \"2017-07-24T00:00:00\", \"2017-07-31T00:00:00\", \"2017-08-07T00:00:00\", \"2017-08-14T00:00:00\", \"2017-08-21T00:00:00\", \"2017-08-28T00:00:00\", \"2017-09-04T00:00:00\", \"2017-09-11T00:00:00\", \"2017-09-18T00:00:00\", \"2017-09-25T00:00:00\", \"2017-10-02T00:00:00\", \"2017-10-09T00:00:00\", \"2017-10-16T00:00:00\", \"2017-10-23T00:00:00\", \"2017-10-30T00:00:00\", \"2017-11-06T00:00:00\", \"2017-11-13T00:00:00\", \"2017-11-14T00:00:00\", \"2017-11-15T00:00:00\", \"2017-11-16T00:00:00\", \"2017-11-17T00:00:00\", \"2017-11-18T00:00:00\", \"2017-11-19T00:00:00\", \"2017-11-20T00:00:00\", \"2017-11-21T00:00:00\", \"2017-11-22T00:00:00\", \"2017-11-23T00:00:00\", \"2017-11-24T00:00:00\", \"2017-11-25T00:00:00\", \"2017-11-26T00:00:00\", \"2017-11-27T00:00:00\", \"2017-11-28T00:00:00\", \"2017-11-29T00:00:00\", \"2017-11-30T00:00:00\", \"2017-12-01T00:00:00\", \"2017-12-02T00:00:00\", \"2017-12-03T00:00:00\", \"2017-12-04T00:00:00\", \"2017-12-05T00:00:00\", \"2017-12-06T00:00:00\", \"2017-12-07T00:00:00\", \"2017-12-08T00:00:00\", \"2017-12-09T00:00:00\", \"2017-12-10T00:00:00\", \"2017-12-11T00:00:00\", \"2017-12-12T00:00:00\", \"2017-12-13T00:00:00\", \"2017-12-14T00:00:00\", \"2017-12-15T00:00:00\", \"2017-12-16T00:00:00\", \"2017-12-17T00:00:00\", \"2017-12-18T00:00:00\", \"2017-12-19T00:00:00\", \"2017-12-20T00:00:00\", \"2017-12-21T00:00:00\", \"2017-12-22T00:00:00\", \"2017-12-23T00:00:00\", \"2017-12-24T00:00:00\", \"2017-12-25T00:00:00\", \"2017-12-26T00:00:00\", \"2017-12-27T00:00:00\", \"2017-12-28T00:00:00\", \"2017-12-29T00:00:00\", \"2017-12-30T00:00:00\", \"2017-12-31T00:00:00\", \"2018-01-01T00:00:00\", \"2018-01-02T00:00:00\"], \"y\": [98.22203872083367, 98.60879038150922, 100.77838270698797, 103.41060840667674, 104.85769182852331, 106.77858870484401, 107.63468330377522, 107.83593963059027, 108.19446286827687, 107.84899383960541, 107.17644790835698, 105.87392856000112, 105.22971006507258, 104.72640409385954, 104.04494959480463, 103.61460664773578, 105.78952703905586, 108.03911448222813, 110.99001239857381, 114.61608767257013, 116.40888548057099, 118.00370765258332, 118.65795945564776, 119.97805256903017, 120.78465572795214, 121.72739991120774, 122.82630777785617, 123.80925001615368, 123.50544144458411, 122.39570456685831, 121.08033037673226, 120.85510311760687, 122.77500112421706, 124.23407793684173, 125.0101745687208, 123.31532380453827, 119.67637068567088, 116.68365416906276, 115.61376507936329, 114.95401075537664, 115.83792299688318, 115.66416666826251, 116.32985047677417, 115.9978952964318, 115.37862419385831, 114.20443922913556, 112.77362272107148, 110.94415804870347, 110.79063606988629, 110.42127899695629, 109.21887467769434, 107.36597075796372, 104.93477229916553, 104.05194468826684, 104.7453841476942, 105.62521417257909, 107.03729848659252, 106.84024433900922, 106.65132455216104, 106.38362078286912, 104.96903962975375, 104.08079354407752, 102.16463738315234, 99.65959408841249, 97.68155340625012, 95.9926285025568, 94.02595315663973, 93.09048234553369, 92.73861473550542, 93.83134206198795, 96.08406608348184, 97.31916389327554, 99.39568349182458, 99.96185503804466, 99.29603300533302, 98.87664310517415, 98.75690737640043, 98.42195525849179, 98.93390283037596, 99.38092155540477, 98.0712721719767, 96.22366434654847, 93.87215898182164, 93.21425783345504, 94.81964969193342, 96.73630324488514, 97.67688548033382, 96.22660705014036, 93.52914848146952, 91.42840406431473, 90.6637661684345, 91.5052243963516, 93.32266173415564, 94.59481731189805, 95.82889151451734, 97.78282871474788, 98.3384745279469, 98.72514284270113, 98.37455837870641, 98.50006050795815, 99.86337725412663, 101.6120609942569, 101.90084598312232, 101.81892419295542, 101.03154140057919, 101.34191648698175, 103.45319754532238, 106.32472360627617, 109.03619848547825, 110.68590148710639, 112.35936192252379, 113.2554974810308, 113.87503252273727, 114.87297367538868, 114.1213573622472, 113.74179164712424, 112.83866318161513, 112.84644299564202, 112.5120547786662, 112.81258064070548, 114.29615767395622, 116.43788790791714, 119.69766438163356, 123.7151085190347, 127.16982991814348, 128.90478382553735, 130.8845752597379, 131.7797489737983, 133.21152176390817, 134.92459936310755, 137.00955891606557, 138.14770100948087, 139.3095500817937, 138.45358043082905, 137.27590035139895, 138.01130546228913, 139.95916638757168, 142.86885466590687, 144.9146014834956, 144.8298913232706, 142.34408927185308, 140.86437797653372, 139.91135245744783, 141.40740895687026, 143.10326247935544, 144.96053821870063, 145.90596818204662, 147.71350444548116, 148.84837801551737, 149.9825249577518, 149.19533843407837, 149.19308176212186, 150.24181634241978, 152.00819756745642, 153.00627208115512, 153.450557602957, 152.03385669788977, 152.41688360337332, 153.8045469223994, 156.86349909786787, 159.23226820004314, 161.6061820836555, 163.08617254794424, 164.3254710888111, 164.45175372616382, 164.63975221907157, 165.20720010499022, 164.95649795335922, 165.10627782542252, 165.06524051507532, 165.00866628671662, 164.9474700134955, 165.40435495045625, 165.5552085969043, 165.34697316246962, 165.098720487923, 165.17734830181706, 165.6956061829534, 165.7727839404109, 165.32488960537808, 165.86301012238442, 165.89952261960147, 164.83380126562236, 165.4265755867208, 165.40778144295004, 165.10654129318672, 165.0955540703715, 165.1569975253415, 164.9539932339932, 164.68457110053083, 164.78654191615635, 165.20892239394115, 164.58778770503523, 164.99167325158444, 164.49834095627062, 165.15489002531564, 164.5881539593667, 164.39920009145388, 164.15438955881788, 164.49916623535128, 164.57543272911272, 164.28739302309899, 163.819714109356, 163.52774074294368, 164.03332572491053, 164.09108428784697, 163.60957275240744, 163.9797551385832, 163.53042807946287, 163.803637783108, 163.78996903444946, 164.00890077054348, 162.95578106021077, 163.8223637900604]}, {\"fill\": \"tonexty\", \"fillcolor\": \"rgba(0, 114, 178, 0.2)\", \"line\": {\"color\": \"#0072B2\", \"width\": 2}, \"mode\": \"lines\", \"name\": \"Predicted\", \"type\": \"scatter\", \"x\": [\"2014-09-29T00:00:00\", \"2014-10-06T00:00:00\", \"2014-10-13T00:00:00\", \"2014-10-20T00:00:00\", \"2014-10-27T00:00:00\", \"2014-11-03T00:00:00\", \"2014-11-10T00:00:00\", \"2014-11-17T00:00:00\", \"2014-11-24T00:00:00\", \"2014-12-01T00:00:00\", \"2014-12-08T00:00:00\", \"2014-12-15T00:00:00\", \"2014-12-22T00:00:00\", \"2014-12-29T00:00:00\", \"2015-01-05T00:00:00\", \"2015-01-12T00:00:00\", \"2015-01-19T00:00:00\", \"2015-01-26T00:00:00\", \"2015-02-02T00:00:00\", \"2015-02-09T00:00:00\", \"2015-02-16T00:00:00\", \"2015-02-23T00:00:00\", \"2015-03-02T00:00:00\", \"2015-03-09T00:00:00\", \"2015-03-16T00:00:00\", \"2015-03-23T00:00:00\", \"2015-03-30T00:00:00\", \"2015-04-06T00:00:00\", \"2015-04-13T00:00:00\", \"2015-04-20T00:00:00\", \"2015-04-27T00:00:00\", \"2015-05-04T00:00:00\", \"2015-05-11T00:00:00\", \"2015-05-18T00:00:00\", \"2015-05-25T00:00:00\", \"2015-06-01T00:00:00\", \"2015-06-08T00:00:00\", \"2015-06-15T00:00:00\", \"2015-06-22T00:00:00\", \"2015-06-29T00:00:00\", \"2015-07-06T00:00:00\", \"2015-07-13T00:00:00\", \"2015-07-20T00:00:00\", \"2015-07-27T00:00:00\", \"2015-08-03T00:00:00\", \"2015-08-10T00:00:00\", \"2015-08-17T00:00:00\", \"2015-08-24T00:00:00\", \"2015-08-31T00:00:00\", \"2015-09-07T00:00:00\", \"2015-09-14T00:00:00\", \"2015-09-21T00:00:00\", \"2015-09-28T00:00:00\", \"2015-10-05T00:00:00\", \"2015-10-12T00:00:00\", \"2015-10-19T00:00:00\", \"2015-10-26T00:00:00\", \"2015-11-02T00:00:00\", \"2015-11-09T00:00:00\", \"2015-11-16T00:00:00\", \"2015-11-23T00:00:00\", \"2015-11-30T00:00:00\", \"2015-12-07T00:00:00\", \"2015-12-14T00:00:00\", \"2015-12-21T00:00:00\", \"2015-12-28T00:00:00\", \"2016-01-04T00:00:00\", \"2016-01-11T00:00:00\", \"2016-01-18T00:00:00\", \"2016-01-25T00:00:00\", \"2016-02-01T00:00:00\", \"2016-02-08T00:00:00\", \"2016-02-15T00:00:00\", \"2016-02-22T00:00:00\", \"2016-02-29T00:00:00\", \"2016-03-07T00:00:00\", \"2016-03-14T00:00:00\", \"2016-03-21T00:00:00\", \"2016-03-28T00:00:00\", \"2016-04-04T00:00:00\", \"2016-04-11T00:00:00\", \"2016-04-18T00:00:00\", \"2016-04-25T00:00:00\", \"2016-05-02T00:00:00\", \"2016-05-09T00:00:00\", \"2016-05-16T00:00:00\", \"2016-05-23T00:00:00\", \"2016-05-30T00:00:00\", \"2016-06-06T00:00:00\", \"2016-06-13T00:00:00\", \"2016-06-20T00:00:00\", \"2016-06-27T00:00:00\", \"2016-07-04T00:00:00\", \"2016-07-11T00:00:00\", \"2016-07-18T00:00:00\", \"2016-07-25T00:00:00\", \"2016-08-01T00:00:00\", \"2016-08-08T00:00:00\", \"2016-08-15T00:00:00\", \"2016-08-22T00:00:00\", \"2016-08-29T00:00:00\", \"2016-09-05T00:00:00\", \"2016-09-12T00:00:00\", \"2016-09-19T00:00:00\", \"2016-09-26T00:00:00\", \"2016-10-03T00:00:00\", \"2016-10-10T00:00:00\", \"2016-10-17T00:00:00\", \"2016-10-24T00:00:00\", \"2016-10-31T00:00:00\", \"2016-11-07T00:00:00\", \"2016-11-14T00:00:00\", \"2016-11-21T00:00:00\", \"2016-11-28T00:00:00\", \"2016-12-05T00:00:00\", \"2016-12-12T00:00:00\", \"2016-12-19T00:00:00\", \"2016-12-26T00:00:00\", \"2017-01-02T00:00:00\", \"2017-01-09T00:00:00\", \"2017-01-16T00:00:00\", \"2017-01-23T00:00:00\", \"2017-01-30T00:00:00\", \"2017-02-06T00:00:00\", \"2017-02-13T00:00:00\", \"2017-02-20T00:00:00\", \"2017-02-27T00:00:00\", \"2017-03-06T00:00:00\", \"2017-03-13T00:00:00\", \"2017-03-20T00:00:00\", \"2017-03-27T00:00:00\", \"2017-04-03T00:00:00\", \"2017-04-10T00:00:00\", \"2017-04-17T00:00:00\", \"2017-04-24T00:00:00\", \"2017-05-01T00:00:00\", \"2017-05-08T00:00:00\", \"2017-05-15T00:00:00\", \"2017-05-22T00:00:00\", \"2017-05-29T00:00:00\", \"2017-06-05T00:00:00\", \"2017-06-12T00:00:00\", \"2017-06-19T00:00:00\", \"2017-06-26T00:00:00\", \"2017-07-03T00:00:00\", \"2017-07-10T00:00:00\", \"2017-07-17T00:00:00\", \"2017-07-24T00:00:00\", \"2017-07-31T00:00:00\", \"2017-08-07T00:00:00\", \"2017-08-14T00:00:00\", \"2017-08-21T00:00:00\", \"2017-08-28T00:00:00\", \"2017-09-04T00:00:00\", \"2017-09-11T00:00:00\", \"2017-09-18T00:00:00\", \"2017-09-25T00:00:00\", \"2017-10-02T00:00:00\", \"2017-10-09T00:00:00\", \"2017-10-16T00:00:00\", \"2017-10-23T00:00:00\", \"2017-10-30T00:00:00\", \"2017-11-06T00:00:00\", \"2017-11-13T00:00:00\", \"2017-11-14T00:00:00\", \"2017-11-15T00:00:00\", \"2017-11-16T00:00:00\", \"2017-11-17T00:00:00\", \"2017-11-18T00:00:00\", \"2017-11-19T00:00:00\", \"2017-11-20T00:00:00\", \"2017-11-21T00:00:00\", \"2017-11-22T00:00:00\", \"2017-11-23T00:00:00\", \"2017-11-24T00:00:00\", \"2017-11-25T00:00:00\", \"2017-11-26T00:00:00\", \"2017-11-27T00:00:00\", \"2017-11-28T00:00:00\", \"2017-11-29T00:00:00\", \"2017-11-30T00:00:00\", \"2017-12-01T00:00:00\", \"2017-12-02T00:00:00\", \"2017-12-03T00:00:00\", \"2017-12-04T00:00:00\", \"2017-12-05T00:00:00\", \"2017-12-06T00:00:00\", \"2017-12-07T00:00:00\", \"2017-12-08T00:00:00\", \"2017-12-09T00:00:00\", \"2017-12-10T00:00:00\", \"2017-12-11T00:00:00\", \"2017-12-12T00:00:00\", \"2017-12-13T00:00:00\", \"2017-12-14T00:00:00\", \"2017-12-15T00:00:00\", \"2017-12-16T00:00:00\", \"2017-12-17T00:00:00\", \"2017-12-18T00:00:00\", \"2017-12-19T00:00:00\", \"2017-12-20T00:00:00\", \"2017-12-21T00:00:00\", \"2017-12-22T00:00:00\", \"2017-12-23T00:00:00\", \"2017-12-24T00:00:00\", \"2017-12-25T00:00:00\", \"2017-12-26T00:00:00\", \"2017-12-27T00:00:00\", \"2017-12-28T00:00:00\", \"2017-12-29T00:00:00\", \"2017-12-30T00:00:00\", \"2017-12-31T00:00:00\", \"2018-01-01T00:00:00\", \"2018-01-02T00:00:00\"], \"y\": [104.06232576604117, 104.48616821392535, 106.43022647175209, 108.96819145713717, 111.02651556301899, 112.28028655008909, 113.07631752957566, 113.70797724264536, 114.01681481405407, 113.71226256143, 112.85520072701998, 111.84314823693349, 110.98538988248929, 110.30177234340884, 109.81906330313507, 109.91099003917584, 111.13064516448576, 113.64560814282534, 116.9304506010319, 120.09468388962836, 122.49856174925506, 124.0490678803246, 124.95282627670213, 125.65428291761728, 126.48882636973971, 127.66318091686607, 129.0250875335524, 129.7863063428495, 129.4438971192991, 128.06800059862107, 126.77171568388997, 126.9141005716428, 128.41163634484002, 130.28097803341979, 130.6310558875523, 128.70274510551982, 125.53893825154037, 122.56185424016567, 121.22736657830932, 121.18068332330061, 121.46979942848984, 121.60386108731973, 121.69017884328775, 121.57233066434473, 121.04207283645822, 119.74161367795122, 118.02009410665887, 116.75264358785266, 116.36993214650346, 116.251072041215, 115.32127071675843, 113.27816041162738, 111.06120829452557, 109.99152316233304, 110.50460640116866, 111.82281963871874, 112.81336675212545, 112.99226003761973, 112.63343481070432, 112.08965965056406, 111.27733790827344, 109.88746651184329, 107.90077719515737, 105.68149710702804, 103.58384098940975, 101.66945145764053, 99.93083459284075, 98.67403251550283, 98.4574677803392, 99.55638658633491, 101.56272480235134, 103.60552652345521, 104.96349451970435, 105.44815113562674, 105.29737312668472, 104.8792442442663, 104.53932106643222, 104.52083400429014, 104.7536531459809, 104.89575037351081, 104.02169544747075, 102.02043521337362, 99.84510540934957, 98.9101695160861, 100.33563563693798, 102.45962734222475, 103.36327262779538, 101.98800718967608, 99.08578708297331, 97.02848384560063, 96.53456845667915, 97.47092133519688, 98.90182321062221, 100.21001764068161, 101.43414763986009, 102.93015938890163, 104.1056361921367, 104.53516129435486, 104.42276884070725, 104.60967667795101, 105.67835720395651, 107.18781521797109, 108.05470587493262, 107.76626734046455, 107.0695441043312, 107.31875942024526, 109.1710223823173, 112.02794881721975, 114.73266791862824, 116.64518044660612, 117.94819223740211, 119.02946755874345, 119.88838007862124, 120.21620017095798, 119.91666401978591, 119.32543897646376, 118.81221050798865, 118.4886489228516, 118.3271136883924, 118.56411776817845, 119.7444340953472, 122.23671513951196, 125.75802220483635, 129.47839191730583, 132.60794274564094, 134.85832965844682, 136.41362454892902, 137.63554907580487, 138.87804813972923, 140.4136377985128, 142.24755061724332, 143.91029223793723, 144.66447410985512, 144.23483927042787, 143.39448205327648, 143.56668634527728, 145.53813202246596, 148.50532484625674, 150.58073801771576, 150.43953414766565, 148.51663564499995, 146.55799325242836, 146.034419869439, 147.05649448511434, 148.7445408619906, 150.36603230691676, 151.86880100212906, 153.39871325403678, 154.69599306789536, 155.29384363033657, 155.25209412952975, 155.34628554453658, 156.28313535881253, 157.8146208206594, 158.89168006070662, 158.8156512214798, 158.11822822130654, 158.1408871619389, 159.74302495713331, 162.5304710991921, 165.3600919569895, 167.44572132074643, 168.84439205640243, 169.96973235672132, 170.11963656307861, 170.265828309463, 170.40746875456526, 170.54358090523985, 170.67308898893097, 170.79486050213978, 170.9077495112603, 171.01063977616633, 171.10248630513036, 171.18235403031454, 171.2494524128324, 171.3031649410774, 171.34307267023965, 171.36897115860887, 171.38088038059158, 171.37904743018692, 171.3639420645316, 171.33624536776006, 171.2968320336556, 171.24674696476237, 171.1871770598407, 171.11941920562128, 171.04484559854114, 170.9648675945712, 170.8808993184147, 170.79432225668685, 170.70645201374762, 170.61850832550687, 170.53158930865973, 170.44665077448124, 170.36449126241604, 170.28574325487142, 170.2108708271794, 170.1401737721043, 170.073798023553, 170.01175199575283, 169.9539282588747, 169.90012979576167, 169.85009993262565, 169.8035549138407, 169.76021800113773, 169.71985392311822, 169.68230248377557, 169.6475101589406, 169.61555856661766, 169.58668878909126, 169.561320648604, 169.54006619040808, 169.52373680230554, 169.5133435930621]}, {\"fill\": \"tonexty\", \"fillcolor\": \"rgba(0, 114, 178, 0.2)\", \"hoverinfo\": \"skip\", \"line\": {\"width\": 0}, \"mode\": \"lines\", \"type\": \"scatter\", \"x\": [\"2014-09-29T00:00:00\", \"2014-10-06T00:00:00\", \"2014-10-13T00:00:00\", \"2014-10-20T00:00:00\", \"2014-10-27T00:00:00\", \"2014-11-03T00:00:00\", \"2014-11-10T00:00:00\", \"2014-11-17T00:00:00\", \"2014-11-24T00:00:00\", \"2014-12-01T00:00:00\", \"2014-12-08T00:00:00\", \"2014-12-15T00:00:00\", \"2014-12-22T00:00:00\", \"2014-12-29T00:00:00\", \"2015-01-05T00:00:00\", \"2015-01-12T00:00:00\", \"2015-01-19T00:00:00\", \"2015-01-26T00:00:00\", \"2015-02-02T00:00:00\", \"2015-02-09T00:00:00\", \"2015-02-16T00:00:00\", \"2015-02-23T00:00:00\", \"2015-03-02T00:00:00\", \"2015-03-09T00:00:00\", \"2015-03-16T00:00:00\", \"2015-03-23T00:00:00\", \"2015-03-30T00:00:00\", \"2015-04-06T00:00:00\", \"2015-04-13T00:00:00\", \"2015-04-20T00:00:00\", \"2015-04-27T00:00:00\", \"2015-05-04T00:00:00\", \"2015-05-11T00:00:00\", \"2015-05-18T00:00:00\", \"2015-05-25T00:00:00\", \"2015-06-01T00:00:00\", \"2015-06-08T00:00:00\", \"2015-06-15T00:00:00\", \"2015-06-22T00:00:00\", \"2015-06-29T00:00:00\", \"2015-07-06T00:00:00\", \"2015-07-13T00:00:00\", \"2015-07-20T00:00:00\", \"2015-07-27T00:00:00\", \"2015-08-03T00:00:00\", \"2015-08-10T00:00:00\", \"2015-08-17T00:00:00\", \"2015-08-24T00:00:00\", \"2015-08-31T00:00:00\", \"2015-09-07T00:00:00\", \"2015-09-14T00:00:00\", \"2015-09-21T00:00:00\", \"2015-09-28T00:00:00\", \"2015-10-05T00:00:00\", \"2015-10-12T00:00:00\", \"2015-10-19T00:00:00\", \"2015-10-26T00:00:00\", \"2015-11-02T00:00:00\", \"2015-11-09T00:00:00\", \"2015-11-16T00:00:00\", \"2015-11-23T00:00:00\", \"2015-11-30T00:00:00\", \"2015-12-07T00:00:00\", \"2015-12-14T00:00:00\", \"2015-12-21T00:00:00\", \"2015-12-28T00:00:00\", \"2016-01-04T00:00:00\", \"2016-01-11T00:00:00\", \"2016-01-18T00:00:00\", \"2016-01-25T00:00:00\", \"2016-02-01T00:00:00\", \"2016-02-08T00:00:00\", \"2016-02-15T00:00:00\", \"2016-02-22T00:00:00\", \"2016-02-29T00:00:00\", \"2016-03-07T00:00:00\", \"2016-03-14T00:00:00\", \"2016-03-21T00:00:00\", \"2016-03-28T00:00:00\", \"2016-04-04T00:00:00\", \"2016-04-11T00:00:00\", \"2016-04-18T00:00:00\", \"2016-04-25T00:00:00\", \"2016-05-02T00:00:00\", \"2016-05-09T00:00:00\", \"2016-05-16T00:00:00\", \"2016-05-23T00:00:00\", \"2016-05-30T00:00:00\", \"2016-06-06T00:00:00\", \"2016-06-13T00:00:00\", \"2016-06-20T00:00:00\", \"2016-06-27T00:00:00\", \"2016-07-04T00:00:00\", \"2016-07-11T00:00:00\", \"2016-07-18T00:00:00\", \"2016-07-25T00:00:00\", \"2016-08-01T00:00:00\", \"2016-08-08T00:00:00\", \"2016-08-15T00:00:00\", \"2016-08-22T00:00:00\", \"2016-08-29T00:00:00\", \"2016-09-05T00:00:00\", \"2016-09-12T00:00:00\", \"2016-09-19T00:00:00\", \"2016-09-26T00:00:00\", \"2016-10-03T00:00:00\", \"2016-10-10T00:00:00\", \"2016-10-17T00:00:00\", \"2016-10-24T00:00:00\", \"2016-10-31T00:00:00\", \"2016-11-07T00:00:00\", \"2016-11-14T00:00:00\", \"2016-11-21T00:00:00\", \"2016-11-28T00:00:00\", \"2016-12-05T00:00:00\", \"2016-12-12T00:00:00\", \"2016-12-19T00:00:00\", \"2016-12-26T00:00:00\", \"2017-01-02T00:00:00\", \"2017-01-09T00:00:00\", \"2017-01-16T00:00:00\", \"2017-01-23T00:00:00\", \"2017-01-30T00:00:00\", \"2017-02-06T00:00:00\", \"2017-02-13T00:00:00\", \"2017-02-20T00:00:00\", \"2017-02-27T00:00:00\", \"2017-03-06T00:00:00\", \"2017-03-13T00:00:00\", \"2017-03-20T00:00:00\", \"2017-03-27T00:00:00\", \"2017-04-03T00:00:00\", \"2017-04-10T00:00:00\", \"2017-04-17T00:00:00\", \"2017-04-24T00:00:00\", \"2017-05-01T00:00:00\", \"2017-05-08T00:00:00\", \"2017-05-15T00:00:00\", \"2017-05-22T00:00:00\", \"2017-05-29T00:00:00\", \"2017-06-05T00:00:00\", \"2017-06-12T00:00:00\", \"2017-06-19T00:00:00\", \"2017-06-26T00:00:00\", \"2017-07-03T00:00:00\", \"2017-07-10T00:00:00\", \"2017-07-17T00:00:00\", \"2017-07-24T00:00:00\", \"2017-07-31T00:00:00\", \"2017-08-07T00:00:00\", \"2017-08-14T00:00:00\", \"2017-08-21T00:00:00\", \"2017-08-28T00:00:00\", \"2017-09-04T00:00:00\", \"2017-09-11T00:00:00\", \"2017-09-18T00:00:00\", \"2017-09-25T00:00:00\", \"2017-10-02T00:00:00\", \"2017-10-09T00:00:00\", \"2017-10-16T00:00:00\", \"2017-10-23T00:00:00\", \"2017-10-30T00:00:00\", \"2017-11-06T00:00:00\", \"2017-11-13T00:00:00\", \"2017-11-14T00:00:00\", \"2017-11-15T00:00:00\", \"2017-11-16T00:00:00\", \"2017-11-17T00:00:00\", \"2017-11-18T00:00:00\", \"2017-11-19T00:00:00\", \"2017-11-20T00:00:00\", \"2017-11-21T00:00:00\", \"2017-11-22T00:00:00\", \"2017-11-23T00:00:00\", \"2017-11-24T00:00:00\", \"2017-11-25T00:00:00\", \"2017-11-26T00:00:00\", \"2017-11-27T00:00:00\", \"2017-11-28T00:00:00\", \"2017-11-29T00:00:00\", \"2017-11-30T00:00:00\", \"2017-12-01T00:00:00\", \"2017-12-02T00:00:00\", \"2017-12-03T00:00:00\", \"2017-12-04T00:00:00\", \"2017-12-05T00:00:00\", \"2017-12-06T00:00:00\", \"2017-12-07T00:00:00\", \"2017-12-08T00:00:00\", \"2017-12-09T00:00:00\", \"2017-12-10T00:00:00\", \"2017-12-11T00:00:00\", \"2017-12-12T00:00:00\", \"2017-12-13T00:00:00\", \"2017-12-14T00:00:00\", \"2017-12-15T00:00:00\", \"2017-12-16T00:00:00\", \"2017-12-17T00:00:00\", \"2017-12-18T00:00:00\", \"2017-12-19T00:00:00\", \"2017-12-20T00:00:00\", \"2017-12-21T00:00:00\", \"2017-12-22T00:00:00\", \"2017-12-23T00:00:00\", \"2017-12-24T00:00:00\", \"2017-12-25T00:00:00\", \"2017-12-26T00:00:00\", \"2017-12-27T00:00:00\", \"2017-12-28T00:00:00\", \"2017-12-29T00:00:00\", \"2017-12-30T00:00:00\", \"2017-12-31T00:00:00\", \"2018-01-01T00:00:00\", \"2018-01-02T00:00:00\"], \"y\": [109.73085968975371, 110.27844469496665, 112.60705401522368, 114.76568099028653, 116.51661765965792, 117.93382083599576, 118.65096688615787, 119.55248546431692, 119.68943153831447, 119.29323459826729, 118.81629005380081, 117.61102778134689, 116.94082092498086, 116.10784477667231, 115.12865527223653, 115.740092471438, 117.23303931698509, 119.62951848438179, 122.77827767162591, 125.81239884962633, 128.0221365251292, 130.09424199585084, 130.6523636069588, 131.6247919478207, 132.53048167484636, 133.6023072920867, 134.81303937446776, 135.3766738362662, 134.7475847086281, 133.7637684394327, 132.4361687425225, 132.4676149117751, 134.2717166688238, 135.96437548304868, 136.60646701217414, 134.51924923964512, 130.7596926576829, 128.6054888422897, 127.06907448426618, 126.94361760590536, 127.48281331487772, 127.4579907864921, 127.24280705471163, 127.6313594670244, 126.41722534318298, 125.51548336750801, 124.26344197094295, 122.48888691796608, 122.28580462693573, 121.84306273510522, 121.18940507966401, 118.62373627929327, 117.17370945753888, 115.90527381287481, 116.25837172005494, 117.30713549234454, 118.38655638188058, 118.79658531796565, 118.74689895538079, 117.60917370356474, 116.98740643654801, 115.49902073665919, 113.64296412863516, 111.14861129439873, 109.31443607277966, 107.0312698180212, 105.40409126908182, 104.83975872440011, 104.07321408750241, 105.11274575370489, 107.38840361894219, 109.33726760878321, 110.62829368494519, 111.39859736228738, 110.69865449639921, 110.86485495544997, 110.25981933416429, 109.83418586645156, 110.4720979934483, 110.89662415908937, 109.52403263779651, 108.04589809933181, 105.54924630240718, 104.9405943725303, 106.11087957748032, 108.18981466999983, 109.7294490329502, 107.74864297227684, 105.01371435230756, 102.64367581364894, 102.29124304633147, 102.89631272015927, 105.01376876584615, 106.13557834511425, 107.47590721978676, 109.08049722088403, 109.82952997042275, 110.8780679258052, 110.33258426046139, 110.4824469922869, 111.65319854861815, 113.00946394492797, 113.69110607508618, 113.92380558980129, 112.90548676163357, 112.85308837853101, 114.7017078447089, 117.76533864679871, 120.39226552062338, 122.7378507797423, 123.64452253909606, 124.73194205107595, 125.71526282798159, 126.17986878771735, 125.43020730514596, 125.00872565721522, 124.50389004905435, 124.44454985250889, 123.7639558366501, 124.36129172921834, 125.4227237223862, 127.630895238576, 131.91520227135982, 135.5745250781958, 138.6970289397783, 140.7646011785029, 142.20693568834122, 143.65885947036753, 144.53212458817572, 146.2901325340558, 148.27865233132573, 149.5771595499249, 150.5837752031183, 150.17995319533094, 149.21599359025754, 149.00555562140812, 151.40539289047416, 154.43662181396832, 156.731582849861, 156.1367834745924, 153.92467997167822, 152.59351592874305, 151.7130019718487, 152.48292838547843, 154.52674635279703, 155.69138391060403, 157.69319666498606, 159.407730207184, 160.51136223721505, 161.40648605638683, 160.5778028481648, 161.12610335414513, 162.47279430081045, 163.15531890369442, 164.92990133891652, 164.70260739344872, 163.88395079457808, 163.94535083170936, 165.48816552277233, 168.16964761298485, 171.29189307539016, 173.13202543605408, 174.79925389603818, 175.84381432101077, 175.87784185597397, 176.37448408244884, 176.04814272102342, 176.3273354622955, 176.60661708437615, 176.4892744829839, 176.50792018919532, 176.67621840325256, 176.8198583362624, 176.84655371581943, 177.17568305237668, 176.88464482855997, 176.8369637720777, 177.03174124632636, 176.77847620780256, 176.93225606972487, 176.96072027231594, 176.93850934216798, 177.0240853435843, 177.17464987504928, 176.42914954320116, 176.78669300305216, 176.92970988696456, 177.28557552397243, 176.79188126196965, 176.28565414443273, 176.90470857503902, 176.53883725524835, 176.27541090959468, 176.61321440631102, 176.67775793717234, 175.9164870633774, 175.71859563794703, 175.90102265282536, 176.12158718697086, 176.10863873715093, 175.87919612830942, 175.34259823579796, 175.74943101440925, 175.21972239922292, 175.60140536059058, 175.5300729517173, 175.74156598920425, 175.69567416946688, 175.56707717228875, 175.67668479572993, 175.43480395070952, 175.3376790056065, 175.46215365836096, 175.14018124927662]}],\n",
              "                        {\"height\": 600, \"showlegend\": false, \"template\": {\"data\": {\"bar\": [{\"error_x\": {\"color\": \"#2a3f5f\"}, \"error_y\": {\"color\": \"#2a3f5f\"}, \"marker\": {\"line\": {\"color\": \"#E5ECF6\", \"width\": 0.5}}, \"type\": \"bar\"}], \"barpolar\": [{\"marker\": {\"line\": {\"color\": \"#E5ECF6\", \"width\": 0.5}}, \"type\": \"barpolar\"}], \"carpet\": [{\"aaxis\": {\"endlinecolor\": \"#2a3f5f\", \"gridcolor\": \"white\", \"linecolor\": \"white\", \"minorgridcolor\": \"white\", \"startlinecolor\": \"#2a3f5f\"}, \"baxis\": {\"endlinecolor\": \"#2a3f5f\", \"gridcolor\": \"white\", \"linecolor\": \"white\", \"minorgridcolor\": \"white\", \"startlinecolor\": \"#2a3f5f\"}, \"type\": \"carpet\"}], \"choropleth\": [{\"colorbar\": {\"outlinewidth\": 0, \"ticks\": \"\"}, \"type\": \"choropleth\"}], \"contour\": [{\"colorbar\": {\"outlinewidth\": 0, \"ticks\": \"\"}, \"colorscale\": [[0.0, \"#0d0887\"], [0.1111111111111111, \"#46039f\"], [0.2222222222222222, \"#7201a8\"], [0.3333333333333333, \"#9c179e\"], [0.4444444444444444, \"#bd3786\"], [0.5555555555555556, \"#d8576b\"], [0.6666666666666666, \"#ed7953\"], [0.7777777777777778, \"#fb9f3a\"], [0.8888888888888888, \"#fdca26\"], [1.0, \"#f0f921\"]], \"type\": \"contour\"}], \"contourcarpet\": [{\"colorbar\": {\"outlinewidth\": 0, \"ticks\": \"\"}, \"type\": \"contourcarpet\"}], \"heatmap\": [{\"colorbar\": {\"outlinewidth\": 0, \"ticks\": \"\"}, \"colorscale\": [[0.0, \"#0d0887\"], [0.1111111111111111, \"#46039f\"], [0.2222222222222222, \"#7201a8\"], [0.3333333333333333, \"#9c179e\"], [0.4444444444444444, \"#bd3786\"], [0.5555555555555556, \"#d8576b\"], [0.6666666666666666, \"#ed7953\"], [0.7777777777777778, \"#fb9f3a\"], [0.8888888888888888, \"#fdca26\"], [1.0, \"#f0f921\"]], \"type\": \"heatmap\"}], \"heatmapgl\": [{\"colorbar\": {\"outlinewidth\": 0, \"ticks\": \"\"}, \"colorscale\": [[0.0, \"#0d0887\"], [0.1111111111111111, \"#46039f\"], [0.2222222222222222, \"#7201a8\"], [0.3333333333333333, \"#9c179e\"], [0.4444444444444444, \"#bd3786\"], [0.5555555555555556, \"#d8576b\"], [0.6666666666666666, \"#ed7953\"], [0.7777777777777778, \"#fb9f3a\"], [0.8888888888888888, \"#fdca26\"], [1.0, \"#f0f921\"]], \"type\": \"heatmapgl\"}], \"histogram\": [{\"marker\": {\"colorbar\": {\"outlinewidth\": 0, \"ticks\": \"\"}}, \"type\": \"histogram\"}], \"histogram2d\": [{\"colorbar\": {\"outlinewidth\": 0, \"ticks\": \"\"}, \"colorscale\": [[0.0, \"#0d0887\"], [0.1111111111111111, \"#46039f\"], [0.2222222222222222, \"#7201a8\"], [0.3333333333333333, \"#9c179e\"], [0.4444444444444444, \"#bd3786\"], [0.5555555555555556, \"#d8576b\"], [0.6666666666666666, \"#ed7953\"], [0.7777777777777778, \"#fb9f3a\"], [0.8888888888888888, \"#fdca26\"], [1.0, \"#f0f921\"]], \"type\": \"histogram2d\"}], \"histogram2dcontour\": [{\"colorbar\": {\"outlinewidth\": 0, \"ticks\": \"\"}, \"colorscale\": [[0.0, \"#0d0887\"], [0.1111111111111111, \"#46039f\"], [0.2222222222222222, \"#7201a8\"], [0.3333333333333333, \"#9c179e\"], [0.4444444444444444, \"#bd3786\"], [0.5555555555555556, \"#d8576b\"], [0.6666666666666666, \"#ed7953\"], [0.7777777777777778, \"#fb9f3a\"], [0.8888888888888888, \"#fdca26\"], [1.0, \"#f0f921\"]], \"type\": \"histogram2dcontour\"}], \"mesh3d\": [{\"colorbar\": {\"outlinewidth\": 0, \"ticks\": \"\"}, \"type\": \"mesh3d\"}], \"parcoords\": [{\"line\": {\"colorbar\": {\"outlinewidth\": 0, \"ticks\": \"\"}}, \"type\": \"parcoords\"}], \"pie\": [{\"automargin\": true, \"type\": \"pie\"}], \"scatter\": [{\"marker\": {\"colorbar\": {\"outlinewidth\": 0, \"ticks\": \"\"}}, \"type\": \"scatter\"}], \"scatter3d\": [{\"line\": {\"colorbar\": {\"outlinewidth\": 0, \"ticks\": \"\"}}, \"marker\": {\"colorbar\": {\"outlinewidth\": 0, \"ticks\": \"\"}}, \"type\": \"scatter3d\"}], \"scattercarpet\": [{\"marker\": {\"colorbar\": {\"outlinewidth\": 0, \"ticks\": \"\"}}, \"type\": \"scattercarpet\"}], \"scattergeo\": [{\"marker\": {\"colorbar\": {\"outlinewidth\": 0, \"ticks\": \"\"}}, \"type\": \"scattergeo\"}], \"scattergl\": [{\"marker\": {\"colorbar\": {\"outlinewidth\": 0, \"ticks\": \"\"}}, \"type\": \"scattergl\"}], \"scattermapbox\": [{\"marker\": {\"colorbar\": {\"outlinewidth\": 0, \"ticks\": \"\"}}, \"type\": \"scattermapbox\"}], \"scatterpolar\": [{\"marker\": {\"colorbar\": {\"outlinewidth\": 0, \"ticks\": \"\"}}, \"type\": \"scatterpolar\"}], \"scatterpolargl\": [{\"marker\": {\"colorbar\": {\"outlinewidth\": 0, \"ticks\": \"\"}}, \"type\": \"scatterpolargl\"}], \"scatterternary\": [{\"marker\": {\"colorbar\": {\"outlinewidth\": 0, \"ticks\": \"\"}}, \"type\": \"scatterternary\"}], \"surface\": [{\"colorbar\": {\"outlinewidth\": 0, \"ticks\": \"\"}, \"colorscale\": [[0.0, \"#0d0887\"], [0.1111111111111111, \"#46039f\"], [0.2222222222222222, \"#7201a8\"], [0.3333333333333333, \"#9c179e\"], [0.4444444444444444, \"#bd3786\"], [0.5555555555555556, \"#d8576b\"], [0.6666666666666666, \"#ed7953\"], [0.7777777777777778, \"#fb9f3a\"], [0.8888888888888888, \"#fdca26\"], [1.0, \"#f0f921\"]], \"type\": \"surface\"}], \"table\": [{\"cells\": {\"fill\": {\"color\": \"#EBF0F8\"}, \"line\": {\"color\": \"white\"}}, \"header\": {\"fill\": {\"color\": \"#C8D4E3\"}, \"line\": {\"color\": \"white\"}}, \"type\": \"table\"}]}, \"layout\": {\"annotationdefaults\": {\"arrowcolor\": \"#2a3f5f\", \"arrowhead\": 0, \"arrowwidth\": 1}, \"coloraxis\": {\"colorbar\": {\"outlinewidth\": 0, \"ticks\": \"\"}}, \"colorscale\": {\"diverging\": [[0, \"#8e0152\"], [0.1, \"#c51b7d\"], [0.2, \"#de77ae\"], [0.3, \"#f1b6da\"], [0.4, \"#fde0ef\"], [0.5, \"#f7f7f7\"], [0.6, \"#e6f5d0\"], [0.7, \"#b8e186\"], [0.8, \"#7fbc41\"], [0.9, \"#4d9221\"], [1, \"#276419\"]], \"sequential\": [[0.0, \"#0d0887\"], [0.1111111111111111, \"#46039f\"], [0.2222222222222222, \"#7201a8\"], [0.3333333333333333, \"#9c179e\"], [0.4444444444444444, \"#bd3786\"], [0.5555555555555556, \"#d8576b\"], [0.6666666666666666, \"#ed7953\"], [0.7777777777777778, \"#fb9f3a\"], [0.8888888888888888, \"#fdca26\"], [1.0, \"#f0f921\"]], \"sequentialminus\": [[0.0, \"#0d0887\"], [0.1111111111111111, \"#46039f\"], [0.2222222222222222, \"#7201a8\"], [0.3333333333333333, \"#9c179e\"], [0.4444444444444444, \"#bd3786\"], [0.5555555555555556, \"#d8576b\"], [0.6666666666666666, \"#ed7953\"], [0.7777777777777778, \"#fb9f3a\"], [0.8888888888888888, \"#fdca26\"], [1.0, \"#f0f921\"]]}, \"colorway\": [\"#636efa\", \"#EF553B\", \"#00cc96\", \"#ab63fa\", \"#FFA15A\", \"#19d3f3\", \"#FF6692\", \"#B6E880\", \"#FF97FF\", \"#FECB52\"], \"font\": {\"color\": \"#2a3f5f\"}, \"geo\": {\"bgcolor\": \"white\", \"lakecolor\": \"white\", \"landcolor\": \"#E5ECF6\", \"showlakes\": true, \"showland\": true, \"subunitcolor\": \"white\"}, \"hoverlabel\": {\"align\": \"left\"}, \"hovermode\": \"closest\", \"mapbox\": {\"style\": \"light\"}, \"paper_bgcolor\": \"white\", \"plot_bgcolor\": \"#E5ECF6\", \"polar\": {\"angularaxis\": {\"gridcolor\": \"white\", \"linecolor\": \"white\", \"ticks\": \"\"}, \"bgcolor\": \"#E5ECF6\", \"radialaxis\": {\"gridcolor\": \"white\", \"linecolor\": \"white\", \"ticks\": \"\"}}, \"scene\": {\"xaxis\": {\"backgroundcolor\": \"#E5ECF6\", \"gridcolor\": \"white\", \"gridwidth\": 2, \"linecolor\": \"white\", \"showbackground\": true, \"ticks\": \"\", \"zerolinecolor\": \"white\"}, \"yaxis\": {\"backgroundcolor\": \"#E5ECF6\", \"gridcolor\": \"white\", \"gridwidth\": 2, \"linecolor\": \"white\", \"showbackground\": true, \"ticks\": \"\", \"zerolinecolor\": \"white\"}, \"zaxis\": {\"backgroundcolor\": \"#E5ECF6\", \"gridcolor\": \"white\", \"gridwidth\": 2, \"linecolor\": \"white\", \"showbackground\": true, \"ticks\": \"\", \"zerolinecolor\": \"white\"}}, \"shapedefaults\": {\"line\": {\"color\": \"#2a3f5f\"}}, \"ternary\": {\"aaxis\": {\"gridcolor\": \"white\", \"linecolor\": \"white\", \"ticks\": \"\"}, \"baxis\": {\"gridcolor\": \"white\", \"linecolor\": \"white\", \"ticks\": \"\"}, \"bgcolor\": \"#E5ECF6\", \"caxis\": {\"gridcolor\": \"white\", \"linecolor\": \"white\", \"ticks\": \"\"}}, \"title\": {\"x\": 0.05}, \"xaxis\": {\"automargin\": true, \"gridcolor\": \"white\", \"linecolor\": \"white\", \"ticks\": \"\", \"title\": {\"standoff\": 15}, \"zerolinecolor\": \"white\", \"zerolinewidth\": 2}, \"yaxis\": {\"automargin\": true, \"gridcolor\": \"white\", \"linecolor\": \"white\", \"ticks\": \"\", \"title\": {\"standoff\": 15}, \"zerolinecolor\": \"white\", \"zerolinewidth\": 2}}}, \"width\": 900, \"xaxis\": {\"rangeselector\": {\"buttons\": [{\"count\": 7, \"label\": \"1w\", \"step\": \"day\", \"stepmode\": \"backward\"}, {\"count\": 1, \"label\": \"1m\", \"step\": \"month\", \"stepmode\": \"backward\"}, {\"count\": 6, \"label\": \"6m\", \"step\": \"month\", \"stepmode\": \"backward\"}, {\"count\": 1, \"label\": \"1y\", \"step\": \"year\", \"stepmode\": \"backward\"}, {\"step\": \"all\"}]}, \"rangeslider\": {\"visible\": true}, \"title\": {\"text\": \"ds\"}, \"type\": \"date\"}, \"yaxis\": {\"title\": {\"text\": \"y\"}}},\n",
              "                        {\"responsive\": true}\n",
              "                    ).then(function(){\n",
              "                            \n",
              "var gd = document.getElementById('093a86e1-332c-4a9d-a3f7-5bc56c33ba8a');\n",
              "var x = new MutationObserver(function (mutations, observer) {{\n",
              "        var display = window.getComputedStyle(gd).display;\n",
              "        if (!display || display === 'none') {{\n",
              "            console.log([gd, 'removed!']);\n",
              "            Plotly.purge(gd);\n",
              "            observer.disconnect();\n",
              "        }}\n",
              "}});\n",
              "\n",
              "// Listen for the removal of the full notebook cells\n",
              "var notebookContainer = gd.closest('#notebook-container');\n",
              "if (notebookContainer) {{\n",
              "    x.observe(notebookContainer, {childList: true});\n",
              "}}\n",
              "\n",
              "// Listen for the clearing of the current output cell\n",
              "var outputEl = gd.closest('.output');\n",
              "if (outputEl) {{\n",
              "    x.observe(outputEl, {childList: true});\n",
              "}}\n",
              "\n",
              "                        })\n",
              "                };\n",
              "                \n",
              "            </script>\n",
              "        </div>\n",
              "</body>\n",
              "</html>"
            ]
          },
          "metadata": {}
        }
      ]
    },
    {
      "cell_type": "code",
      "source": [
        "# forecast for future predictions\n",
        "forecast_pred[forecast_pred.ds == '2018-01-01']['yhat']"
      ],
      "metadata": {
        "colab": {
          "base_uri": "https://localhost:8080/"
        },
        "id": "LF_3JHzglqtO",
        "outputId": "57849dd7-a6ff-4500-a527-e5b6d36d3a19"
      },
      "execution_count": 67,
      "outputs": [
        {
          "output_type": "execute_result",
          "data": {
            "text/plain": [
              "212    169.523737\n",
              "Name: yhat, dtype: float64"
            ]
          },
          "metadata": {},
          "execution_count": 67
        }
      ]
    },
    {
      "cell_type": "code",
      "source": [
        "# Show the actual value of AAP on 2017-12-15\n",
        "last[last.ds == '2018-01-01']['y']"
      ],
      "metadata": {
        "colab": {
          "base_uri": "https://localhost:8080/"
        },
        "id": "rAP9QTPPnA8f",
        "outputId": "b03d5681-440a-4c95-970e-df9d256afb93"
      },
      "execution_count": 68,
      "outputs": [
        {
          "output_type": "execute_result",
          "data": {
            "text/plain": [
              "170    175.0\n",
              "Name: y, dtype: float64"
            ]
          },
          "metadata": {},
          "execution_count": 68
        }
      ]
    }
  ]
}